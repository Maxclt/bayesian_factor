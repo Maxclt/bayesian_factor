{
 "cells": [
  {
   "cell_type": "code",
   "execution_count": 4,
   "metadata": {},
   "outputs": [],
   "source": [
    "import numpy as np\n",
    "import timeit"
   ]
  },
  {
   "cell_type": "code",
   "execution_count": 2,
   "metadata": {},
   "outputs": [
    {
     "data": {
      "text/plain": [
       "(1, 2)"
      ]
     },
     "execution_count": 2,
     "metadata": {},
     "output_type": "execute_result"
    }
   ],
   "source": [
    "np.array([[1,2]]).shape"
   ]
  },
  {
   "cell_type": "code",
   "execution_count": 19,
   "metadata": {},
   "outputs": [
    {
     "name": "stdout",
     "output_type": "stream",
     "text": [
      "[np.int64(0), np.int64(1), np.int64(2), np.int64(4), np.int64(7), np.int64(12), np.int64(21), np.int64(35), np.int64(59), np.int64(100)]\n"
     ]
    }
   ],
   "source": [
    "import numpy as np\n",
    "\n",
    "num_iters = 100  # Example number of iterations\n",
    "iter_indices = np.logspace(\n",
    "    0,\n",
    "    np.log10(np.array(num_iters, dtype=np.int64)),\n",
    "    num=min(10, num_iters),\n",
    "    dtype=np.int64,\n",
    ")\n",
    "iter_indices = list(dict.fromkeys(np.insert(iter_indices, 0, 0)))\n",
    "print(iter_indices)"
   ]
  },
  {
   "cell_type": "code",
   "execution_count": 1,
   "metadata": {},
   "outputs": [],
   "source": [
    "import numpy as np\n",
    "\n",
    "np.random.seed(43)\n",
    "\n",
    "# Example inputs\n",
    "G, K, N = 3, 4, 5  # Example dimensions\n",
    "Y = np.random.rand(G, N)  # Shape (G, N)\n",
    "B = np.random.rand(G, K)  # Shape (G, K)\n",
    "Omega = np.random.rand(K, N)  # Shape (K, N)\n",
    "k = 1  # Example index for `k` to exclude\n",
    "\n",
    "# Exclude the k-th column of B and the k-th row of Omega\n",
    "B_excluded = np.delete(B, k, axis=1)  # Shape (G, K-1)\n",
    "Omega_excluded = np.delete(Omega, k, axis=0)  # Shape (K-1, N)\n",
    "\n",
    "# Compute the summation using einsum\n",
    "excluded_sum = np.einsum(\"gt,tn->gn\", B_excluded, Omega_excluded)  # Shape (G, N)\n",
    "\n",
    "# Subtract from Y\n",
    "result = (Y - excluded_sum).T  # Shape (N, G)"
   ]
  },
  {
   "cell_type": "code",
   "execution_count": 2,
   "metadata": {},
   "outputs": [],
   "source": [
    "sum_B_Omega = np.zeros((G, N))  # Initialize the sum to a zero matrix\n",
    "for t in range(K):\n",
    "    if t != k:  # Exclude the k-th term\n",
    "        sum_B_Omega += np.expand_dims(B[:, t], 1) @ np.expand_dims(\n",
    "            Omega[t].T, 0)\n",
    "result2 = (Y - sum_B_Omega).T"
   ]
  },
  {
   "cell_type": "code",
   "execution_count": 19,
   "metadata": {},
   "outputs": [
    {
     "data": {
      "text/plain": [
       "array([[-0.31557624, -0.74094336, -0.88446055],\n",
       "       [ 0.45878818,  0.05471392,  0.3924876 ],\n",
       "       [-0.02997689, -0.09809144, -0.16898354],\n",
       "       [-0.08292189, -1.00735083, -0.6090193 ],\n",
       "       [ 0.0081116 , -0.47007712, -0.00170847]])"
      ]
     },
     "execution_count": 19,
     "metadata": {},
     "output_type": "execute_result"
    }
   ],
   "source": [
    "result2"
   ]
  },
  {
   "cell_type": "code",
   "execution_count": 20,
   "metadata": {},
   "outputs": [
    {
     "data": {
      "text/plain": [
       "array([[-0.31557624, -0.74094336, -0.88446055],\n",
       "       [ 0.45878818,  0.05471392,  0.3924876 ],\n",
       "       [-0.02997689, -0.09809144, -0.16898354],\n",
       "       [-0.08292189, -1.00735083, -0.6090193 ],\n",
       "       [ 0.0081116 , -0.47007712, -0.00170847]])"
      ]
     },
     "execution_count": 20,
     "metadata": {},
     "output_type": "execute_result"
    }
   ],
   "source": [
    "result"
   ]
  },
  {
   "cell_type": "code",
   "execution_count": 50,
   "metadata": {},
   "outputs": [
    {
     "name": "stdout",
     "output_type": "stream",
     "text": [
      "Execution time: 0.0325 seconds\n"
     ]
    }
   ],
   "source": [
    "code_to_time = \"\"\"import numpy as np # Assuming W is an (n x K) matrix and Sigma is a (G,) vector.\n",
    "W = np.random.rand(1000, 8)  # Example matrix of shape (n, K)\n",
    "Sigma = np.random.rand(5000)  # Example vector of length G\n",
    "\n",
    "# Using Einstein summation convention to compute A:\n",
    "A = np.einsum(\"ik,j->jk\", W**2, 1 / (2 * Sigma**2))\n",
    "\"\"\"\n",
    "execution_time = timeit.timeit(code_to_time, number=1)  # Runs once\n",
    "print(f\"Execution time: {execution_time:.4f} seconds\")"
   ]
  },
  {
   "cell_type": "code",
   "execution_count": null,
   "metadata": {},
   "outputs": [],
   "source": []
  },
  {
   "cell_type": "code",
   "execution_count": 5,
   "metadata": {},
   "outputs": [],
   "source": [
    "import torch\n",
    "\n",
    "n, K, G = 4, 3, 5\n",
    "\n",
    "lambda1 = 20\n",
    "lambda0 = 0.1\n",
    "\n",
    "Omega = torch.rand(K, n, device=\"mps\")  # W: shape (n, K)\n",
    "Sigma = torch.rand(G, device=\"mps\")  # Sigma: shape (G,)\n",
    "Y = torch.rand(G, n, device=\"mps\")  # Y: shape (n, G)\n",
    "B = torch.rand(G, K, device=\"mps\")\n",
    "Gamma = torch.randint(0, 2, (G, K), device=\"mps\")\n",
    "\n",
    "# Compute a\n",
    "a = torch.einsum(\"ki,j->jk\", Omega**2, 1 / (2 * Sigma))\n",
    "\n",
    "# Compute b\n",
    "mask = 1 - torch.eye(K, device=\"mps\")\n",
    "excluded_sum = torch.einsum(\"jl,li,lk->jik\", B, Omega, mask)  # Shape (G, K)\n",
    "b = torch.einsum(\n",
    "    \"ki, jik -> jk\", Omega, Y.unsqueeze(2).repeat(1, 1, K) - excluded_sum\n",
    ") / (Sigma).unsqueeze(1)\n",
    "# Compute c\n",
    "c = lambda1 * Gamma + lambda0 * (1 - Gamma)\n",
    "\n",
    "# Vectorized sampling from truncated normal mixture\n",
    "mu_pos = ((b - c) / (2 * a)).to(device=\"cpu\")\n",
    "mu_neg = ((b + c) / (2 * a)).to(device=\"cpu\")\n",
    "sigma = torch.sqrt(1 / (2 * a)).to(device=\"cpu\")"
   ]
  },
  {
   "cell_type": "code",
   "execution_count": 32,
   "metadata": {},
   "outputs": [
    {
     "name": "stdout",
     "output_type": "stream",
     "text": [
      "tensor([1.0000e-05, 5.0000e-04, 1.0000e-10])\n"
     ]
    }
   ],
   "source": [
    "tensor = torch.tensor([0.00001, 0.0005, 1e-10], dtype=torch.float32)\n",
    "print(tensor)  # May round very small values"
   ]
  },
  {
   "cell_type": "code",
   "execution_count": 29,
   "metadata": {},
   "outputs": [
    {
     "data": {
      "text/plain": [
       "tensor([[ -5.5756, -53.7743,  -0.3184],\n",
       "        [  0.1367, -31.3893,   0.5064],\n",
       "        [ -4.9973, -52.3613,  -3.6697],\n",
       "        [ -0.3341, -92.7929,  -6.2562],\n",
       "        [ -0.5446,  -2.7203,  -0.6445]])"
      ]
     },
     "execution_count": 29,
     "metadata": {},
     "output_type": "execute_result"
    }
   ],
   "source": [
    "mu_pos"
   ]
  },
  {
   "cell_type": "code",
   "execution_count": 22,
   "metadata": {},
   "outputs": [
    {
     "data": {
      "text/plain": [
       "tensor([[-14.3531,  -7.9710,  -6.7695],\n",
       "        [ -9.4418,  -5.3623,  -4.4889],\n",
       "        [ -8.1689,  -6.9152,  -2.6723],\n",
       "        [ -4.9878,  -5.0868,  -1.4321],\n",
       "        [-21.6502, -14.8842,  -9.0969]], device='mps:0')"
      ]
     },
     "execution_count": 22,
     "metadata": {},
     "output_type": "execute_result"
    }
   ],
   "source": [
    "b"
   ]
  },
  {
   "cell_type": "code",
   "execution_count": 11,
   "metadata": {},
   "outputs": [
    {
     "data": {
      "text/plain": [
       "torch.Size([5])"
      ]
     },
     "execution_count": 11,
     "metadata": {},
     "output_type": "execute_result"
    }
   ],
   "source": [
    "Sigma.shape"
   ]
  },
  {
   "cell_type": "code",
   "execution_count": 7,
   "metadata": {},
   "outputs": [
    {
     "data": {
      "text/plain": [
       "torch.Size([5, 3])"
      ]
     },
     "execution_count": 7,
     "metadata": {},
     "output_type": "execute_result"
    }
   ],
   "source": [
    "b.shape"
   ]
  },
  {
   "cell_type": "code",
   "execution_count": 8,
   "metadata": {},
   "outputs": [
    {
     "data": {
      "text/plain": [
       "tensor([[0.4023, 0.6909, 0.7396, 0.0514, 0.2755]], device='mps:0')"
      ]
     },
     "execution_count": 8,
     "metadata": {},
     "output_type": "execute_result"
    }
   ],
   "source": [
    "(Sigma**2).unsqueeze(0)"
   ]
  },
  {
   "cell_type": "code",
   "execution_count": 3,
   "metadata": {},
   "outputs": [
    {
     "data": {
      "text/plain": [
       "torch.Size([5, 4])"
      ]
     },
     "execution_count": 3,
     "metadata": {},
     "output_type": "execute_result"
    }
   ],
   "source": [
    "excluded_sum.shape"
   ]
  },
  {
   "cell_type": "code",
   "execution_count": 18,
   "metadata": {},
   "outputs": [],
   "source": [
    "epsilon = 1e-10\n",
    "Omega = torch.rand(K, n, device=\"mps\") + epsilon"
   ]
  },
  {
   "cell_type": "code",
   "execution_count": 19,
   "metadata": {},
   "outputs": [],
   "source": [
    "Omega[2,1] = 2"
   ]
  },
  {
   "cell_type": "code",
   "execution_count": 231,
   "metadata": {},
   "outputs": [
    {
     "data": {
      "text/plain": [
       "tensor([[  0.8045,   4.2395,  -8.4261],\n",
       "        [ -0.2703,  -4.1558,  -0.7065],\n",
       "        [ -5.0574,   0.4732, -10.9034],\n",
       "        [  0.3610,   1.4759,  -0.9909],\n",
       "        [ -1.5673, -12.3967,  -3.9729]])"
      ]
     },
     "execution_count": 231,
     "metadata": {},
     "output_type": "execute_result"
    }
   ],
   "source": [
    "mu_pos"
   ]
  },
  {
   "cell_type": "code",
   "execution_count": 178,
   "metadata": {},
   "outputs": [],
   "source": [
    "B_new = torch.empty_like(B, device=\"cpu\")"
   ]
  },
  {
   "cell_type": "code",
   "execution_count": 181,
   "metadata": {},
   "outputs": [
    {
     "data": {
      "text/plain": [
       "torch.Size([5, 3])"
      ]
     },
     "execution_count": 181,
     "metadata": {},
     "output_type": "execute_result"
    }
   ],
   "source": [
    "B_new.shape"
   ]
  },
  {
   "cell_type": "code",
   "execution_count": 242,
   "metadata": {},
   "outputs": [
    {
     "name": "stdout",
     "output_type": "stream",
     "text": [
      "Execution time: 0.0053 seconds\n"
     ]
    }
   ],
   "source": [
    "code_to_time = \"\"\"import torch\n",
    "\n",
    "# Dimensions\n",
    "n, K, G = 1000, 8, 2000\n",
    "\n",
    "lambda1 = 20\n",
    "lambda0 = 0.1\n",
    "\n",
    "Omega = torch.rand(K, n, device=\"mps\")  # W: shape (n, K)\n",
    "Sigma = torch.rand(G, device=\"mps\")  # Sigma: shape (G,)\n",
    "Y = torch.rand(n, G, device=\"mps\")  # Y: shape (n, G)\n",
    "B = torch.rand(G, K, device=\"mps\")\n",
    "Gamma = torch.randint(0, 2, (G, K), device=\"mps\")\n",
    "\n",
    "# Compute a\n",
    "a = torch.einsum(\"ki,j->jk\", Omega**2, 1 / (2 * Sigma**2))\n",
    "\n",
    "# Compute b\n",
    "mask = 1 - torch.eye(K, device=\"mps\")\n",
    "excluded_sum = torch.einsum(\n",
    "    \"jl,li,lk->jk\", B, Omega, mask\n",
    ")  # Shape (G, K)\n",
    "b = (Y.sum(dim=0, keepdim=True).T - excluded_sum) / (\n",
    "    Sigma**2\n",
    ").unsqueeze(1)\n",
    "\n",
    "# Compute c\n",
    "c = lambda1 * Gamma + lambda0 * (1 - Gamma)\n",
    "\n",
    "# Vectorized sampling from truncated normal mixture\n",
    "mu_pos = ((b - c) / (2 * a)).to(device=\"cpu\")\n",
    "mu_neg = ((b + c) / (2 * a)).to(device=\"cpu\")\n",
    "sigma = torch.sqrt(1 / (2 * a)).to(device=\"cpu\")\n",
    "\n",
    "B_new = torch.empty_like(B, device=\"cpu\")\n",
    "\"\"\"\n",
    "\n",
    "execution_time = timeit.timeit(code_to_time, number=1)  # Runs once\n",
    "print(f\"Execution time: {execution_time:.4f} seconds\")"
   ]
  },
  {
   "cell_type": "code",
   "execution_count": 86,
   "metadata": {},
   "outputs": [
    {
     "name": "stdout",
     "output_type": "stream",
     "text": [
      "Execution time: 0.0031 seconds\n"
     ]
    }
   ],
   "source": [
    "code_to_time = \"\"\"import torch # Assuming W is an (n x K) matrix and Sigma is a (G,) vector.\n",
    "\n",
    "device = torch.device(\"mps\" if torch.backends.mps.is_available() else \"cpu\")\n",
    "\n",
    "W = torch.rand(1000, 8, device=device)  # Example matrix of shape (n, K)\n",
    "Sigma = torch.rand(50000, device=device)  # Example vector of length G\n",
    "\n",
    "# Using Einstein summation convention to compute A:\n",
    "A = torch.einsum(\"ik,j->jk\", W**2, 1 / (2 * Sigma**2))\n",
    "\"\"\"\n",
    "execution_time = timeit.timeit(code_to_time, number=1)  # Runs once\n",
    "print(f\"Execution time: {execution_time:.4f} seconds\")"
   ]
  },
  {
   "cell_type": "code",
   "execution_count": 1,
   "metadata": {},
   "outputs": [
    {
     "name": "stdout",
     "output_type": "stream",
     "text": [
      "MPS backend is available for GPU acceleration on Mac!\n"
     ]
    }
   ],
   "source": [
    "import torch\n",
    "\n",
    "if torch.backends.mps.is_available():\n",
    "    print(\"MPS backend is available for GPU acceleration on Mac!\")\n",
    "else:\n",
    "    print(\"MPS backend is not available.\")"
   ]
  },
  {
   "cell_type": "code",
   "execution_count": 6,
   "metadata": {},
   "outputs": [
    {
     "data": {
      "image/png": "[encoded data removed]",
      "text/plain": [
       "<Figure size 800x600 with 1 Axes>"
      ]
     },
     "metadata": {},
     "output_type": "display_data"
    }
   ],
   "source": [
    "import numpy as np\n",
    "import matplotlib.pyplot as plt\n",
    "from scipy.stats import truncnorm, beta, bernoulli\n",
    "\n",
    "# Parameters\n",
    "a = 1.0  # Parameter from density\n",
    "b = 0.5  # Linear coefficient in beta\n",
    "c = 0.2  # Absolute value coefficient\n",
    "\n",
    "# Mean and standard deviation of the Gaussian\n",
    "mu_1 = (b - c) / (2 * a)\n",
    "sigma = np.sqrt(1 / (2 * a))\n",
    "\n",
    "# Truncation bounds for the positive part (beta >= 0)\n",
    "lower_bound = -np.inf\n",
    "upper_bound = 0\n",
    "# Convert bounds to standard normal units\n",
    "a_param = (lower_bound - mu_1) / sigma\n",
    "b_param = (upper_bound - mu_1) / sigma\n",
    "\n",
    "# Generate the truncated normal distribution\n",
    "x = np.linspace(-3, mu_1 + 4 * sigma, 1000)  # Points in the positive range\n",
    "trunc_dist = truncnorm(a_param, b_param, loc=mu_1, scale=sigma)\n",
    "\n",
    "# PDF of the truncated normal\n",
    "pdf = trunc_dist.pdf(x)\n",
    "cdf = trunc_dist.cdf(x)\n",
    "\n",
    "# Plot\n",
    "plt.figure(figsize=(8, 6))\n",
    "plt.plot(x, pdf, label=r\"$\\mathcal{N}^+(\\beta; \\mu_1, \\sigma^2)$\", color=\"blue\")\n",
    "plt.plot(x, cdf, label=r\"$\\mathcal{N}^+(\\beta; \\mu_1, \\sigma^2)$\", color=\"blue\")\n",
    "plt.title(\"Truncated Gaussian on [0, ∞)\")\n",
    "plt.xlabel(r\"$\\beta$\")\n",
    "plt.ylabel(\"Density\")\n",
    "plt.legend()\n",
    "plt.grid()\n",
    "plt.show()"
   ]
  },
  {
   "cell_type": "code",
   "execution_count": 5,
   "metadata": {},
   "outputs": [
    {
     "data": {
      "image/png": "[encoded data removed]",
      "text/plain": [
       "<Figure size 640x480 with 1 Axes>"
      ]
     },
     "metadata": {},
     "output_type": "display_data"
    }
   ],
   "source": [
    "import numpy as np\n",
    "from scipy.stats import norm\n",
    "\n",
    "# Parameters for the distributions\n",
    "mu1, sigma = - 2, 1.0  # Mean and std for q(x)\n",
    "mu2 = 2  # Mean for p(x)\n",
    "\n",
    "# Step 1: Compute the weights\n",
    "# C_q and C_p are the probabilities of sampling from q(x) and p(x), respectively\n",
    "C_q = (1 - norm.cdf(0, loc=mu1, scale=sigma))\n",
    "C_p = (norm.cdf(0, loc=mu2, scale=sigma))\n",
    "C = C_q + C_p\n",
    "w_q = C_q / C\n",
    "w_p = C_p / C\n",
    "\n",
    "\n",
    "# Step 2: Sampling function\n",
    "def sample_f(n_samples):\n",
    "    samples = []\n",
    "    for _ in range(n_samples):\n",
    "        # Step 2.1: Choose q(x) or p(x) based on the weights\n",
    "        if np.random.rand() < w_q:\n",
    "            # Sample from q(x), truncated to x > 0\n",
    "            u = np.random.rand()\n",
    "            x = mu1 + sigma * norm.ppf(\n",
    "                norm.cdf(0, loc=mu1, scale=sigma)\n",
    "                + u * (1 - norm.cdf(0, loc=mu1, scale=sigma))\n",
    "            )\n",
    "        else:\n",
    "            # Sample from p(x), truncated to x < 0\n",
    "            u = np.random.rand()\n",
    "            x = mu2 + sigma * norm.ppf(u * norm.cdf(0, loc=mu2, scale=sigma))\n",
    "        samples.append(x)\n",
    "    return np.array(samples)\n",
    "\n",
    "\n",
    "# Generate samples\n",
    "n_samples = 10000\n",
    "samples = sample_f(n_samples)\n",
    "\n",
    "# Visualization\n",
    "import matplotlib.pyplot as plt\n",
    "\n",
    "x = np.linspace(-10, 10, 1000)\n",
    "f_x = np.where(x > 0, norm.pdf(x, mu1, sigma), norm.pdf(x, mu2, sigma))/ C\n",
    "plt.hist(samples, bins=50, density=True, alpha=0.6, color=\"gray\", label=\"Sampled\")\n",
    "plt.plot(x, f_x, label=\"True f(x)\", color=\"red\")  # Scaled for comparison\n",
    "plt.legend()\n",
    "plt.xlabel(\"x\")\n",
    "plt.ylabel(\"Density\")\n",
    "plt.title(\"Sampling from f(x)\")\n",
    "plt.show()"
   ]
  },
  {
   "cell_type": "code",
   "execution_count": 143,
   "metadata": {},
   "outputs": [
    {
     "ename": "AttributeError",
     "evalue": "module 'torch.distributions' has no attribute 'TruncatedNormal'",
     "output_type": "error",
     "traceback": [
      "\u001b[0;31m---------------------------------------------------------------------------\u001b[0m",
      "\u001b[0;31mAttributeError\u001b[0m                            Traceback (most recent call last)",
      "Cell \u001b[0;32mIn[143], line 100\u001b[0m\n\u001b[1;32m     97\u001b[0m device \u001b[38;5;241m=\u001b[39m \u001b[38;5;124m\"\u001b[39m\u001b[38;5;124mmps\u001b[39m\u001b[38;5;124m\"\u001b[39m\n\u001b[1;32m     99\u001b[0m model \u001b[38;5;241m=\u001b[39m TruncNormMixture(mu_pos, mu_neg, sigma, epsilon, device)\n\u001b[0;32m--> 100\u001b[0m samples \u001b[38;5;241m=\u001b[39m \u001b[43mmodel\u001b[49m\u001b[38;5;241;43m.\u001b[39;49m\u001b[43mrvs\u001b[49m\u001b[43m(\u001b[49m\u001b[43msize\u001b[49m\u001b[38;5;241;43m=\u001b[39;49m\u001b[38;5;241;43m10\u001b[39;49m\u001b[43m)\u001b[49m\n\u001b[1;32m    101\u001b[0m \u001b[38;5;28mprint\u001b[39m(samples)\n",
      "Cell \u001b[0;32mIn[143], line 83\u001b[0m, in \u001b[0;36mTruncNormMixture.rvs\u001b[0;34m(self, size)\u001b[0m\n\u001b[1;32m     80\u001b[0m     sample \u001b[38;5;241m=\u001b[39m trunc_norm_pos\u001b[38;5;241m.\u001b[39msample()\n\u001b[1;32m     81\u001b[0m \u001b[38;5;28;01melse\u001b[39;00m:\n\u001b[1;32m     82\u001b[0m     \u001b[38;5;66;03m# Truncated normal sample for the negative component\u001b[39;00m\n\u001b[0;32m---> 83\u001b[0m     trunc_norm_neg \u001b[38;5;241m=\u001b[39m \u001b[43mdist\u001b[49m\u001b[38;5;241;43m.\u001b[39;49m\u001b[43mTruncatedNormal\u001b[49m(\n\u001b[1;32m     84\u001b[0m         \u001b[38;5;28mself\u001b[39m\u001b[38;5;241m.\u001b[39mmu_neg, \u001b[38;5;28mself\u001b[39m\u001b[38;5;241m.\u001b[39msigma, high\u001b[38;5;241m=\u001b[39m\u001b[38;5;28mself\u001b[39m\u001b[38;5;241m.\u001b[39mmu_neg\n\u001b[1;32m     85\u001b[0m     )\n\u001b[1;32m     86\u001b[0m     sample \u001b[38;5;241m=\u001b[39m trunc_norm_neg\u001b[38;5;241m.\u001b[39msample()\n\u001b[1;32m     87\u001b[0m samples\u001b[38;5;241m.\u001b[39mappend(sample)\n",
      "\u001b[0;31mAttributeError\u001b[0m: module 'torch.distributions' has no attribute 'TruncatedNormal'"
     ]
    }
   ],
   "source": [
    "import torch\n",
    "import torch.distributions as dist\n",
    "\n",
    "\n",
    "class TruncNormMixture:\n",
    "    def __init__(\n",
    "        self,\n",
    "        mu_pos: float,\n",
    "        mu_neg: float,\n",
    "        sigma: float,\n",
    "        epsilon: float = 1e-10,\n",
    "        device=\"mps\",\n",
    "    ):\n",
    "        \"\"\"Initializes the truncated normal mixture model.\n",
    "\n",
    "        Args:\n",
    "            mu_pos (float): Mean of the positive component of the mixture.\n",
    "            mu_neg (float): Mean of the negative component of the mixture.\n",
    "            sigma (float): Standard deviation of both components.\n",
    "            epsilon (float, optional): Small value to avoid division by zero. Defaults to 1e-10.\n",
    "            device (str, optional): The device to run computations on. Defaults to 'cuda'.\n",
    "        \"\"\"\n",
    "        self.mu_pos = mu_pos\n",
    "        self.mu_neg = mu_neg\n",
    "        self.sigma = sigma\n",
    "        self.device = device\n",
    "\n",
    "        # Precompute the Z and w values\n",
    "        self.Z_pos = 1 - torch.distributions.Normal(self.mu_pos, self.sigma).cdf(\n",
    "            torch.tensor(0.0, device=device)\n",
    "        )\n",
    "        self.Z_neg = torch.distributions.Normal(self.mu_neg, self.sigma).cdf(\n",
    "            torch.tensor(0.0, device=device)\n",
    "        )\n",
    "        self.Z = self.Z_pos + self.Z_neg + epsilon\n",
    "        self.w_pos = (self.Z_pos + epsilon / 2) / self.Z\n",
    "        self.w_neg = (self.Z_neg + epsilon / 2) / self.Z\n",
    "\n",
    "    def _pdf(self, x: torch.Tensor) -> torch.Tensor:\n",
    "        \"\"\"Compute the PDF of the mixture at the given points.\"\"\"\n",
    "        pos_pdf = torch.distributions.Normal(self.mu_pos, self.sigma).log_prob(x)\n",
    "        neg_pdf = torch.distributions.Normal(self.mu_neg, self.sigma).log_prob(x)\n",
    "        return torch.exp(torch.where(x > 0, pos_pdf, neg_pdf)) / self.Z\n",
    "\n",
    "    def _cdf(self, x: torch.Tensor) -> torch.Tensor:\n",
    "        \"\"\"Compute the CDF of the mixture at the given points.\"\"\"\n",
    "        if torch.any(x < 0):\n",
    "            return (\n",
    "                self.w_neg\n",
    "                * torch.distributions.Normal(self.mu_neg, self.sigma).cdf(x)\n",
    "                / self.Z_neg\n",
    "            )\n",
    "        else:\n",
    "            return (\n",
    "                self.w_neg\n",
    "                + self.w_pos\n",
    "                * (\n",
    "                    torch.distributions.Normal(self.mu_pos, self.sigma).cdf(x)\n",
    "                    - torch.distributions.Normal(self.mu_pos, self.sigma).cdf(\n",
    "                        torch.tensor(0.0, device=self.device)\n",
    "                    )\n",
    "                )\n",
    "                / self.Z_pos\n",
    "            )\n",
    "\n",
    "    def rvs(self, size: int = 1) -> torch.Tensor:\n",
    "        \"\"\"Generate random samples from the truncated normal mixture.\"\"\"\n",
    "        # Sample the component (positive or negative)\n",
    "        component = (\n",
    "            torch.randint(0, 2, (size,), device=self.device) * 2 - 1\n",
    "        )  # Randomly choose 1 or -1\n",
    "\n",
    "        samples = []\n",
    "        for c in component:\n",
    "            if c > 0:\n",
    "                # Truncated normal sample for the positive component\n",
    "                trunc_norm_pos = dist.TruncatedNormal(\n",
    "                    self.mu_pos, self.sigma, low=self.mu_pos\n",
    "                )\n",
    "                sample = trunc_norm_pos.sample()\n",
    "            else:\n",
    "                # Truncated normal sample for the negative component\n",
    "                trunc_norm_neg = dist.TruncatedNormal(\n",
    "                    self.mu_neg, self.sigma, high=self.mu_neg\n",
    "                )\n",
    "                sample = trunc_norm_neg.sample()\n",
    "            samples.append(sample)\n",
    "\n",
    "        return torch.stack(samples)  # Stack all samples into a tensor\n",
    "\n",
    "\n",
    "# Example usage:\n",
    "mu_pos = 2.0\n",
    "mu_neg = -2.0\n",
    "sigma = 1.0\n",
    "epsilon = 1e-10\n",
    "device = \"mps\"\n",
    "\n",
    "model = TruncNormMixture(mu_pos, mu_neg, sigma, epsilon, device)\n",
    "samples = model.rvs(size=10)\n",
    "print(samples)"
   ]
  },
  {
   "cell_type": "code",
   "execution_count": null,
   "metadata": {},
   "outputs": [
    {
     "name": "stdout",
     "output_type": "stream",
     "text": [
      "Transfer time: 3.6802937984466553 seconds\n"
     ]
    }
   ],
   "source": []
  },
  {
   "cell_type": "code",
   "execution_count": 6,
   "metadata": {},
   "outputs": [
    {
     "data": {
      "text/plain": [
       "np.float64(7.098887502915615e-05)"
      ]
     },
     "execution_count": 6,
     "metadata": {},
     "output_type": "execute_result"
    }
   ],
   "source": [
    "theta = 0.014\n",
    "lambda0 = 20\n",
    "lambda1 = 0.1\n",
    "\n",
    "B = 0\n",
    "\n",
    "p = (lambda1 * np.exp(-lambda1*B)* theta)/(lambda0*np.exp(-lambda0*B)*(1-theta)+ lambda1*np.exp(-lambda1*B)*theta)\n",
    "p"
   ]
  },
  {
   "cell_type": "code",
   "execution_count": 11,
   "metadata": {},
   "outputs": [
    {
     "data": {
      "text/plain": [
       "(array([[501., 136.,   0.,   0.,   0.,   0.,   0.,   0.],\n",
       "        [136., 501., 136.,   0.,   0.,   0.,   0.,   0.],\n",
       "        [  0., 136., 501., 136.,   0.,   0.,   0.,   0.],\n",
       "        [  0.,   0., 136., 501., 136.,   0.,   0.,   0.],\n",
       "        [  0.,   0.,   0., 136., 501.,   0.,   0.,   0.],\n",
       "        [  0.,   0.,   0.,   0.,   0.,   1.,   0.,   0.],\n",
       "        [  0.,   0.,   0.,   0.,   0.,   0.,   1.,   0.],\n",
       "        [  0.,   0.,   0.,   0.,   0.,   0.,   0.,   1.]]),\n",
       " array([[ 2.16981375e-03, -6.40269788e-04,  1.88827156e-04,\n",
       "         -5.53361307e-05,  1.50213848e-05,  0.00000000e+00,\n",
       "          0.00000000e+00,  0.00000000e+00],\n",
       "        [-6.40269788e-04,  2.35864091e-03, -6.95605919e-04,\n",
       "          2.03848540e-04, -5.53361307e-05,  0.00000000e+00,\n",
       "          0.00000000e+00,  0.00000000e+00],\n",
       "        [ 1.88827156e-04, -6.95605919e-04,  2.37366230e-03,\n",
       "         -6.95605919e-04,  1.88827156e-04,  0.00000000e+00,\n",
       "          0.00000000e+00,  0.00000000e+00],\n",
       "        [-5.53361307e-05,  2.03848540e-04, -6.95605919e-04,\n",
       "          2.35864091e-03, -6.40269788e-04,  0.00000000e+00,\n",
       "          0.00000000e+00,  0.00000000e+00],\n",
       "        [ 1.50213848e-05, -5.53361307e-05,  1.88827156e-04,\n",
       "         -6.40269788e-04,  2.16981375e-03,  0.00000000e+00,\n",
       "          0.00000000e+00,  0.00000000e+00],\n",
       "        [ 0.00000000e+00,  0.00000000e+00,  0.00000000e+00,\n",
       "          0.00000000e+00,  0.00000000e+00,  1.00000000e+00,\n",
       "          0.00000000e+00,  0.00000000e+00],\n",
       "        [ 0.00000000e+00,  0.00000000e+00,  0.00000000e+00,\n",
       "          0.00000000e+00,  0.00000000e+00,  0.00000000e+00,\n",
       "          1.00000000e+00,  0.00000000e+00],\n",
       "        [ 0.00000000e+00,  0.00000000e+00,  0.00000000e+00,\n",
       "          0.00000000e+00,  0.00000000e+00,  0.00000000e+00,\n",
       "          0.00000000e+00,  1.00000000e+00]]))"
      ]
     },
     "execution_count": 11,
     "metadata": {},
     "output_type": "execute_result"
    }
   ],
   "source": [
    "# Define the size of the blocks\n",
    "block1_size = 5  # Size of the first block (tridiagonal)\n",
    "block2_size = 3  # Size of the second block (identity)\n",
    "\n",
    "# Create the first block: tridiagonal symmetric matrix\n",
    "main_diag_block1 = np.full(block1_size, 501)\n",
    "off_diag_block1 = np.full(block1_size - 1, 136)\n",
    "block1 = (\n",
    "    np.diag(main_diag_block1)\n",
    "    + np.diag(off_diag_block1, k=1)\n",
    "    + np.diag(off_diag_block1, k=-1)\n",
    ")\n",
    "\n",
    "# Create the second block: identity matrix\n",
    "block2 = np.eye(block2_size)\n",
    "\n",
    "# Combine the two blocks into a single matrix\n",
    "matrix_combined = np.block(\n",
    "    [\n",
    "        [block1, np.zeros((block1_size, block2_size))],\n",
    "        [np.zeros((block2_size, block1_size)), block2],\n",
    "    ]\n",
    ")\n",
    "\n",
    "# Calculate the inverse of the combined matrix\n",
    "inverse_combined = np.linalg.inv(matrix_combined)\n",
    "\n",
    "# Display the combined matrix and its inverse\n",
    "matrix_combined, inverse_combined"
   ]
  },
  {
   "cell_type": "code",
   "execution_count": 10,
   "metadata": {},
   "outputs": [
    {
     "data": {
      "image/png": "[encoded data removed]",
      "text/plain": [
       "<Figure size 800x500 with 1 Axes>"
      ]
     },
     "metadata": {},
     "output_type": "display_data"
    },
    {
     "data": {
      "text/plain": [
       "array([0.78212493, 1.19189123, 0.91183229, 1.22153365, 1.21119035,\n",
       "       0.83906893, 1.1363685 , 0.97597515, 0.82707306, 1.01603784])"
      ]
     },
     "execution_count": 10,
     "metadata": {},
     "output_type": "execute_result"
    }
   ],
   "source": [
    "import numpy as np\n",
    "import matplotlib.pyplot as plt\n",
    "from scipy.stats import invgamma\n",
    "\n",
    "# Parameters\n",
    "a = 50.5\n",
    "b = 50\n",
    "\n",
    "# Create the x values (range for plotting the PDF)\n",
    "x = np.linspace(invgamma.ppf(0.01, a, scale=b), invgamma.ppf(0.99, a, scale=b), 1000)\n",
    "\n",
    "# Calculate the PDF\n",
    "pdf = invgamma.pdf(x, a, scale=b)\n",
    "samples = invgamma.rvs(a, scale=b, size=1000)\n",
    "\n",
    "# Plot the PDF\n",
    "plt.figure(figsize=(8, 5))\n",
    "plt.hist(\n",
    "    samples, bins=30, density=True, alpha=0.6, color=\"blue\", label=\"Sample Histogram\"\n",
    ")\n",
    "plt.plot(x, pdf, \"r-\", lw=2, label=\"invgamma pdf\")\n",
    "plt.title(\"Inverse Gamma PDF\", fontsize=14)\n",
    "plt.xlabel(\"x\", fontsize=12)\n",
    "plt.ylabel(\"Density\", fontsize=12)\n",
    "plt.legend(loc=\"best\", fontsize=12)\n",
    "plt.grid()\n",
    "plt.show()\n",
    "\n",
    "# Sampling from the distribution\n",
    "\n",
    "\n",
    "# Display first few samples\n",
    "samples[:10]"
   ]
  },
  {
   "cell_type": "code",
   "execution_count": 20,
   "metadata": {},
   "outputs": [
    {
     "data": {
      "text/plain": [
       "array([1, 1])"
      ]
     },
     "execution_count": 20,
     "metadata": {},
     "output_type": "execute_result"
    }
   ],
   "source": [
    "bernoulli(np.array([1, 1])).rvs()"
   ]
  },
  {
   "cell_type": "code",
   "execution_count": 21,
   "metadata": {},
   "outputs": [
    {
     "name": "stdout",
     "output_type": "stream",
     "text": [
      "Omega (K x n):\n",
      "[[0.33676365 0.69068196 0.00341501 0.26899532]\n",
      " [0.4653453  0.90384915 0.9937813  0.29644952]\n",
      " [0.70592413 0.01002473 0.81641525 0.8942615 ]]\n",
      "\n",
      "Sigma (J,):\n",
      "[0.74377532 0.60034137 0.9765629  0.99521911 0.33866176]\n",
      "\n",
      "Computed a (J x K):\n",
      "[[0.59907756 1.90615199 1.77572375]\n",
      " [0.91953875 2.92579915 2.72560166]\n",
      " [0.34750906 1.10570839 1.03005041]\n",
      " [0.33460248 1.0646421  0.99179408]\n",
      " [2.8895768  9.19408931 8.56498475]]\n"
     ]
    }
   ],
   "source": [
    "# Example dimensions\n",
    "J = 5  # number of variables\n",
    "K = 3  # number of factors\n",
    "n = 4  # number of observations\n",
    "\n",
    "# Random data for Omega (K x n) and Sigma (J)\n",
    "Omega = np.random.rand(K, n)  # Omega matrix (K x n)\n",
    "Sigma = np.random.rand(J)  # Sigma vector (J,)\n",
    "\n",
    "# Step 1: Compute Omega_squared (element-wise square of Omega)\n",
    "Omega_squared = Omega**2  # Shape: (K, n)\n",
    "\n",
    "# Step 2: Sum along the 'i' dimension (axis 1), resulting in a (K,) array\n",
    "Omega_sum = np.sum(Omega_squared, axis=1)  # Shape: (K,)\n",
    "\n",
    "# Step 3: Compute a_{jk} for each j and k using broadcasting\n",
    "Sigma_squared = Sigma**2  # Shape: (J,)\n",
    "a = Omega_sum / (2 * Sigma_squared[:, np.newaxis])  # Broadcast over J and K\n",
    "\n",
    "# Output the result\n",
    "print(\"Omega (K x n):\")\n",
    "print(Omega)\n",
    "print(\"\\nSigma (J,):\")\n",
    "print(Sigma)\n",
    "print(\"\\nComputed a (J x K):\")\n",
    "print(a)"
   ]
  },
  {
   "cell_type": "code",
   "execution_count": 22,
   "metadata": {},
   "outputs": [
    {
     "ename": "ValueError",
     "evalue": "operands could not be broadcast together with remapped shapes [original->remapped]: (100,8)->(100,8,newaxis) (8,1956)->(1956,8) ",
     "output_type": "error",
     "traceback": [
      "\u001b[0;31m---------------------------------------------------------------------------\u001b[0m",
      "\u001b[0;31mValueError\u001b[0m                                Traceback (most recent call last)",
      "Cell \u001b[0;32mIn[22], line 17\u001b[0m\n\u001b[1;32m     13\u001b[0m B_omega \u001b[38;5;241m=\u001b[39m np\u001b[38;5;241m.\u001b[39mdot(B, Omega)  \u001b[38;5;66;03m# Shape: (J, n)\u001b[39;00m\n\u001b[1;32m     15\u001b[0m \u001b[38;5;66;03m# Step 2: Compute the matrix of excluded terms (this is the \"adjustment\" for each k)\u001b[39;00m\n\u001b[1;32m     16\u001b[0m \u001b[38;5;66;03m# Create a (J, K, n) matrix of B values, where each slice (k-th column) is broadcasted with Omega[k, :]\u001b[39;00m\n\u001b[0;32m---> 17\u001b[0m B_omega_exclusion \u001b[38;5;241m=\u001b[39m \u001b[43mnp\u001b[49m\u001b[38;5;241;43m.\u001b[39;49m\u001b[43meinsum\u001b[49m\u001b[43m(\u001b[49m\u001b[38;5;124;43m\"\u001b[39;49m\u001b[38;5;124;43mjk,ik->jki\u001b[39;49m\u001b[38;5;124;43m\"\u001b[39;49m\u001b[43m,\u001b[49m\u001b[43m \u001b[49m\u001b[43mB\u001b[49m\u001b[43m,\u001b[49m\u001b[43m \u001b[49m\u001b[43mOmega\u001b[49m\u001b[43m)\u001b[49m  \u001b[38;5;66;03m# Shape: (J, K, n)\u001b[39;00m\n\u001b[1;32m     19\u001b[0m \u001b[38;5;66;03m# Step 3: Adjust the B_omega matrix by removing the contribution of the k-th column\u001b[39;00m\n\u001b[1;32m     20\u001b[0m \u001b[38;5;66;03m# For each k, we remove the corresponding column in B_omega\u001b[39;00m\n\u001b[1;32m     21\u001b[0m B_omega_adjusted \u001b[38;5;241m=\u001b[39m B_omega_exclusion\u001b[38;5;241m.\u001b[39msum(\n\u001b[1;32m     22\u001b[0m     axis\u001b[38;5;241m=\u001b[39m\u001b[38;5;241m1\u001b[39m\n\u001b[1;32m     23\u001b[0m )  \u001b[38;5;66;03m# sum over axis 1 (k-axis), remove the contribution of each column\u001b[39;00m\n",
      "File \u001b[0;32m~/CSENSAE/bayesian_statistics/bayesian_factor/.venv/lib/python3.12/site-packages/numpy/_core/einsumfunc.py:1423\u001b[0m, in \u001b[0;36meinsum\u001b[0;34m(out, optimize, *operands, **kwargs)\u001b[0m\n\u001b[1;32m   1421\u001b[0m     \u001b[38;5;28;01mif\u001b[39;00m specified_out:\n\u001b[1;32m   1422\u001b[0m         kwargs[\u001b[38;5;124m'\u001b[39m\u001b[38;5;124mout\u001b[39m\u001b[38;5;124m'\u001b[39m] \u001b[38;5;241m=\u001b[39m out\n\u001b[0;32m-> 1423\u001b[0m     \u001b[38;5;28;01mreturn\u001b[39;00m \u001b[43mc_einsum\u001b[49m\u001b[43m(\u001b[49m\u001b[38;5;241;43m*\u001b[39;49m\u001b[43moperands\u001b[49m\u001b[43m,\u001b[49m\u001b[43m \u001b[49m\u001b[38;5;241;43m*\u001b[39;49m\u001b[38;5;241;43m*\u001b[39;49m\u001b[43mkwargs\u001b[49m\u001b[43m)\u001b[49m\n\u001b[1;32m   1425\u001b[0m \u001b[38;5;66;03m# Check the kwargs to avoid a more cryptic error later, without having to\u001b[39;00m\n\u001b[1;32m   1426\u001b[0m \u001b[38;5;66;03m# repeat default values here\u001b[39;00m\n\u001b[1;32m   1427\u001b[0m valid_einsum_kwargs \u001b[38;5;241m=\u001b[39m [\u001b[38;5;124m'\u001b[39m\u001b[38;5;124mdtype\u001b[39m\u001b[38;5;124m'\u001b[39m, \u001b[38;5;124m'\u001b[39m\u001b[38;5;124morder\u001b[39m\u001b[38;5;124m'\u001b[39m, \u001b[38;5;124m'\u001b[39m\u001b[38;5;124mcasting\u001b[39m\u001b[38;5;124m'\u001b[39m]\n",
      "\u001b[0;31mValueError\u001b[0m: operands could not be broadcast together with remapped shapes [original->remapped]: (100,8)->(100,8,newaxis) (8,1956)->(1956,8) "
     ]
    }
   ],
   "source": [
    "import numpy as np\n",
    "\n",
    "# Example dimensions\n",
    "n = 1956  # number of data points\n",
    "J = 100  # number of variables (rows of Y and B)\n",
    "K = 8  # number of factors (columns of B)\n",
    "Y = np.random.rand(n, J)  # Y (n x J)\n",
    "Omega = np.random.rand(K, n)  # Omega (K x n)\n",
    "B = np.random.rand(J, K)  # B (J x K)\n",
    "sigma_squared = np.random.rand(J)  # sigma^2 (J,)\n",
    "\n",
    "# Step 1: Compute B * Omega^T (J x n matrix)\n",
    "B_omega = np.dot(B, Omega)  # Shape: (J, n)\n",
    "\n",
    "# Step 2: Compute the matrix of excluded terms (this is the \"adjustment\" for each k)\n",
    "# Create a (J, K, n) matrix of B values, where each slice (k-th column) is broadcasted with Omega[k, :]\n",
    "B_omega_exclusion = np.einsum(\"jk,ik->jki\", B, Omega)  # Shape: (J, K, n)\n",
    "\n",
    "# Step 3: Adjust the B_omega matrix by removing the contribution of the k-th column\n",
    "# For each k, we remove the corresponding column in B_omega\n",
    "B_omega_adjusted = B_omega_exclusion.sum(\n",
    "    axis=1\n",
    ")  # sum over axis 1 (k-axis), remove the contribution of each column\n",
    "\n",
    "# Step 4: Compute the numerator for b_{jk}, which is Omega_k^T * (Y - B_omega_adjusted)\n",
    "numerator = np.dot(Omega, (Y - B_omega_adjusted).T)  # Shape: (K, J)\n",
    "\n",
    "# Step 5: Divide by sigma_j^2 to get b_{jk}\n",
    "b_matrix = numerator.T / sigma_squared  # Shape: (J, K)\n",
    "\n",
    "# Final result: b_matrix contains all b_{jk} for j=1,...,J and k=1,...,K\n",
    "print(\"b_matrix shape:\", b_matrix.shape)"
   ]
  },
  {
   "cell_type": "code",
   "execution_count": 5,
   "metadata": {},
   "outputs": [
    {
     "data": {
      "image/png": "[encoded data removed]",
      "text/plain": [
       "<Figure size 640x480 with 1 Axes>"
      ]
     },
     "metadata": {},
     "output_type": "display_data"
    }
   ],
   "source": [
    "import numpy as np\n",
    "from scipy.stats import truncnorm, norm\n",
    "import matplotlib.pyplot as plt\n",
    "\n",
    "# Parameters for the distributions\n",
    "mu1, sigma = - 1.0, 2.0  # Mean and std for q(x)\n",
    "mu2 = 2.0  # Mean for p(x)\n",
    "\n",
    "# Step 1: Compute the weights\n",
    "# Calculate the cumulative probabilities for truncation\n",
    "C_q =  (1 - norm.cdf(0, loc=mu1, scale=sigma))\n",
    "C_p = norm.cdf(0, loc=mu2, scale=sigma)\n",
    "C = C_q + C_p\n",
    "w_q = C_q / C\n",
    "w_p = C_p / C\n",
    "\n",
    "\n",
    "# Step 2: Define a sampling function\n",
    "def sample_f(n_samples):\n",
    "    samples = []\n",
    "    for _ in range(n_samples):\n",
    "        # Step 2.1: Choose q(x) or p(x) based on the weights\n",
    "        if np.random.rand() < w_q:\n",
    "            # Sample from q(x), truncated to x > 0\n",
    "            a, b = (\n",
    "                0 - mu1\n",
    "            ) / sigma, np.inf  # Truncation bounds in standard normal space\n",
    "            samples.append(truncnorm.rvs(a, b, loc=mu1, scale=sigma))\n",
    "        else:\n",
    "            # Sample from p(x), truncated to x < 0\n",
    "            a, b = (\n",
    "                -np.inf,\n",
    "                (0 - mu2) / sigma,\n",
    "            )  # Truncation bounds in standard normal space\n",
    "            samples.append(truncnorm.rvs(a, b, loc=mu2, scale=sigma))\n",
    "    return np.array(samples)\n",
    "\n",
    "\n",
    "# Generate samples\n",
    "n_samples = 10000\n",
    "samples = sample_f(n_samples)\n",
    "\n",
    "# Visualization\n",
    "x = np.linspace(-10, 10, 1000)\n",
    "f_x = np.where(x > 0, norm.pdf(x, mu1, sigma), norm.pdf(x, mu2, sigma))/C\n",
    "plt.hist(samples, bins=50, density=True, alpha=0.6, color=\"gray\", label=\"Sampled\")\n",
    "plt.plot(x, f_x, label=\"True f(x)\", color=\"red\")  # Scaled for comparison\n",
    "plt.legend()\n",
    "plt.xlabel(\"x\")\n",
    "plt.ylabel(\"Density\")\n",
    "plt.title(\"Sampling from f(x) using truncnorm\")\n",
    "plt.show()"
   ]
  },
  {
   "cell_type": "code",
   "execution_count": 5,
   "metadata": {},
   "outputs": [
    {
     "data": {
      "image/png": "[encoded data removed]",
      "text/plain": [
       "<Figure size 1000x600 with 1 Axes>"
      ]
     },
     "metadata": {},
     "output_type": "display_data"
    }
   ],
   "source": [
    "from src.utils.probability.density import trunc_norm_mixture\n",
    "# Example usage:\n",
    "mu_pos = -4\n",
    "mu_neg = 2\n",
    "sigma = np.sqrt(1)\n",
    "\n",
    "# Initialize the distribution\n",
    "dist = trunc_norm_mixture(\n",
    "    mu_pos=mu_pos, mu_neg=mu_neg, sigma=sigma\n",
    ")\n",
    "\n",
    "# Generate 1000 samples\n",
    "samples = dist.rvs(size=100000)\n",
    "\n",
    "x_vals = np.linspace(-5, 5, 1000)\n",
    "pdf_vals = np.array([dist._pdf(x) for x in x_vals])\n",
    "\n",
    "plt.figure(figsize=(10, 6))\n",
    "\n",
    "# Histogram of the samples\n",
    "plt.hist(samples, bins=200, density=True, alpha=0.6, color=\"g\", label=\"Samples\")\n",
    "\n",
    "# Plot the PDF\n",
    "plt.plot(x_vals, pdf_vals, \"b-\", label=\"PDF\")\n",
    "\n",
    "# Labels and title\n",
    "plt.title(\"Truncated Normal Mixture Distribution: Samples vs PDF\")\n",
    "plt.xlabel(\"Value\")\n",
    "plt.ylabel(\"Density\")\n",
    "plt.legend()\n",
    "\n",
    "plt.show()"
   ]
  },
  {
   "cell_type": "code",
   "execution_count": null,
   "metadata": {},
   "outputs": [],
   "source": []
  },
  {
   "cell_type": "code",
   "execution_count": 11,
   "metadata": {},
   "outputs": [
    {
     "data": {
      "text/plain": [
       "np.float64(-0.6018514907301018)"
      ]
     },
     "execution_count": 11,
     "metadata": {},
     "output_type": "execute_result"
    }
   ],
   "source": [
    "dist.rvs()[0]"
   ]
  },
  {
   "cell_type": "code",
   "execution_count": 31,
   "metadata": {},
   "outputs": [
    {
     "data": {
      "text/plain": [
       "np.int64(14)"
      ]
     },
     "execution_count": 31,
     "metadata": {},
     "output_type": "execute_result"
    }
   ],
   "source": [
    "Omega = np.array([[1, 2, 3], [4, 5, 6], [7, 8, 9]])\n",
    "Omega[[0],:]**2"
   ]
  },
  {
   "cell_type": "code",
   "execution_count": 7,
   "metadata": {},
   "outputs": [
    {
     "name": "stdout",
     "output_type": "stream",
     "text": [
      "b_{jk} = -0.26813055834077415\n"
     ]
    }
   ],
   "source": [
    "# Example matrices\n",
    "G, n, K = 3, 4, 5  # G: variables, n: samples, K: factors\n",
    "Y = np.random.rand(G, n)  # Observed data, shape (G, n)\n",
    "B = np.random.rand(G, K)  # Loadings matrix, shape (G, K)\n",
    "Omega = np.random.rand(K, n)  # Factors matrix, shape (K, n)\n",
    "\n",
    "# Target indices (j, k)\n",
    "j = 0  # Row index in B and Y\n",
    "k = 1  # Column index in B, Row index in Omega\n",
    "\n",
    "# Exclude the k-th column from B and the k-th row from Omega\n",
    "mask = np.ones(K, dtype=bool)\n",
    "mask[k] = False\n",
    "\n",
    "# Compute the inner product (∑_{l ≠ k} B[j, l] * Omega[l, :])\n",
    "inner_product = B[j, mask] @ Omega[mask, :]  # Shape (n,)\n",
    "\n",
    "# Compute the adjusted Y[j, :]\n",
    "adjusted_y = Y[j, :] - inner_product  # Shape (n,)\n",
    "\n",
    "# Compute the final b_{jk} (∑_{i} Omega[k, i] * adjusted_y[i])\n",
    "bjk = np.dot(Omega[k, :], adjusted_y)\n",
    "\n",
    "print(\"b_{jk} =\", bjk)"
   ]
  },
  {
   "cell_type": "code",
   "execution_count": 8,
   "metadata": {},
   "outputs": [
    {
     "name": "stdout",
     "output_type": "stream",
     "text": [
      "1.225371098802349\n",
      "0.9690833673790553\n",
      "1.4053629170677404\n",
      "1.4821503003162049\n",
      "11.250145453176867\n"
     ]
    }
   ],
   "source": [
    "alpha = 10\n",
    "Gamma = np.random.rand(G, K)\n",
    "\n",
    "for k in range(K):\n",
    "    alphak = np.sum(Gamma[:, k]) + alpha * (k == (K - 1))\n",
    "    print(alphak)"
   ]
  },
  {
   "cell_type": "code",
   "execution_count": 9,
   "metadata": {},
   "outputs": [
    {
     "name": "stdout",
     "output_type": "stream",
     "text": [
      "a:0, b:0.5, alpha:500, beta:1457, cdf_a:0.0, cdf_b:1.0\n"
     ]
    },
    {
     "data": {
      "image/png": "[encoded data removed]",
      "text/plain": [
       "<Figure size 800x500 with 1 Axes>"
      ]
     },
     "metadata": {},
     "output_type": "display_data"
    }
   ],
   "source": [
    "from src.utils.probability.density import truncated_beta\n",
    "\n",
    "# Instantiate the truncated beta distribution\n",
    "trunc_beta = truncated_beta(name=\"truncated_beta\")\n",
    "\n",
    "# Parameters for the distribution\n",
    "alpha = 500\n",
    "beta_param = 1457\n",
    "a = 0\n",
    "b = 0.5\n",
    "size = 10000\n",
    "# a:0.5, b:1, alpha:500.0000000001, beta:1457, cdf_a:1.0, cdf_b:1.0\n",
    "# Generate samples\n",
    "samples = trunc_beta._rvs(alpha, beta_param, a, b, size=size)\n",
    "\n",
    "# Plot histogram of samples\n",
    "x = np.linspace(0,1, 1000)\n",
    "\n",
    "#pdf_values = beta.pdf(x, alpha, beta_param)\n",
    "pdf_values = trunc_beta._pdf(x, alpha, beta_param, a, b)\n",
    "#cdf_values = beta.cdf(x, alpha, beta_param)\n",
    "cdf_values = trunc_beta._cdf(x, alpha, beta_param, a, b)\n",
    "\n",
    "plt.figure(figsize=(8, 5))\n",
    "plt.hist(samples, bins=100, density=True, alpha=0.7, color=\"blue\", label=\"Sampled Data\")\n",
    "plt.plot(x, pdf_values, \"r-\", label=\"Truncated Beta PDF\", linewidth=2)\n",
    "#plt.plot(x, cdf_values, \"r-\", label=\"Truncated Beta CDF\", linewidth=2)\n",
    "plt.xlabel(\"x\")\n",
    "plt.ylabel(\"Density\")\n",
    "plt.title(\"Truncated Beta Distribution\")\n",
    "plt.legend()\n",
    "plt.grid(alpha=0.3)\n",
    "plt.show()"
   ]
  },
  {
   "cell_type": "code",
   "execution_count": 7,
   "metadata": {},
   "outputs": [
    {
     "data": {
      "text/plain": [
       "np.float64(0.004975124378109453)"
      ]
     },
     "execution_count": 7,
     "metadata": {},
     "output_type": "execute_result"
    }
   ],
   "source": [
    "(0.1 * np.exp(-0.1 * 0) * 0.5) / (0.1 * np.exp(-0.1 * 0) * 0.5 + 20 * np.exp(-20 * 0) * 0.5)"
   ]
  },
  {
   "cell_type": "code",
   "execution_count": 17,
   "metadata": {},
   "outputs": [
    {
     "data": {
      "image/png": "[encoded data removed]",
      "text/plain": [
       "<Figure size 640x480 with 1 Axes>"
      ]
     },
     "metadata": {},
     "output_type": "display_data"
    }
   ],
   "source": [
    "import numpy as np\n",
    "from scipy.stats import beta\n",
    "import matplotlib.pyplot as plt\n",
    "\n",
    "# Parameters for the Beta distribution\n",
    "alpha = 500\n",
    "beta_param = 1957 - alpha\n",
    "a, b = 0.1, 1  # Truncation bounds\n",
    "\n",
    "\n",
    "# Step 1: Define a sampling function\n",
    "def sample_truncated_beta(alpha, beta_param, a, b, n_samples):\n",
    "    # Compute the cumulative probabilities for truncation\n",
    "    C_a = beta.cdf(a, alpha, beta_param)  # CDF at the lower bound\n",
    "    C_b = beta.cdf(b, alpha, beta_param)  # CDF at the upper bound\n",
    "    C = C_b - C_a\n",
    "    # Sample from the truncated Beta distribution\n",
    "    samples = []\n",
    "    for _ in range(n_samples):\n",
    "        # Generate a uniform random number in [C_a, C_b]\n",
    "        u = np.random.uniform(C_a, C_b)\n",
    "        # Use the inverse CDF (percent point function) to generate a sample\n",
    "        x = beta.ppf(u, alpha, beta_param)\n",
    "        samples.append(x)\n",
    "    return np.array(samples), C\n",
    "\n",
    "\n",
    "# Step 2: Generate samples\n",
    "n_samples = 10000\n",
    "samples, C = sample_truncated_beta(alpha, beta_param, a, b, n_samples)\n",
    "\n",
    "# Step 3: Visualization\n",
    "x = np.linspace(0, 1, 1000)\n",
    "f_x = beta.pdf(x, alpha, beta_param)  # Untruncated Beta PDF\n",
    "f_x_truncated = np.where((x > a) & (x < b), f_x, 0) / C  # Truncated Beta PDF\n",
    "\n",
    "plt.hist(samples, bins=50, density=True, alpha=0.6, color=\"gray\", label=\"Sampled\")\n",
    "plt.plot(\n",
    "    x, f_x_truncated, label=\"True f(x)\", color=\"red\"\n",
    ")  # Scaled for comparison\n",
    "plt.legend()\n",
    "plt.xlabel(\"x\")\n",
    "plt.ylabel(\"Density\")\n",
    "plt.title(\"Sampling from truncated Beta distribution\")\n",
    "plt.show()"
   ]
  },
  {
   "cell_type": "code",
   "execution_count": 11,
   "metadata": {},
   "outputs": [
    {
     "name": "stdout",
     "output_type": "stream",
     "text": [
      "42\n"
     ]
    }
   ],
   "source": [
    "seed = 42\n",
    "\n",
    "if not seed==False:\n",
    "    print(seed)"
   ]
  },
  {
   "cell_type": "code",
   "execution_count": 2,
   "metadata": {},
   "outputs": [],
   "source": [
    "from src.simulations.normal_bayesian_factor_dgp import NormalBayesianFactorDGP\n",
    "np.random.seed(42)\n",
    "\n",
    "\n",
    "num_sim = 100\n",
    "num_variables = 1956\n",
    "num_factors = 8\n",
    "\n",
    "B = np.zeros((num_variables, num_factors))\n",
    "Sigma = np.eye(num_variables)\n",
    "\n",
    "# Parameters for the block pattern\n",
    "block_size = 500\n",
    "overlap = 136\n",
    "\n",
    "# Calculate the number of full blocks in each column\n",
    "block_gap = block_size - overlap\n",
    "\n",
    "# Create an array of indices that define the start of each block for all columns\n",
    "start_indices = np.arange(0, num_factors*block_gap, block_gap)\n",
    "\n",
    "# For each column, fill the blocks with 1's\n",
    "for col in range(5):\n",
    "    end_row = min(start_indices[col] + block_size, num_variables)\n",
    "    B[start_indices[col] : end_row, col] = 1\n",
    "\n"
   ]
  },
  {
   "cell_type": "code",
   "execution_count": 3,
   "metadata": {},
   "outputs": [
    {
     "name": "stdout",
     "output_type": "stream",
     "text": [
      "Matrix with 1's (random=False):\n",
      " [[1. 0. 0. 0. 0.]\n",
      " [1. 0. 0. 0. 0.]\n",
      " [1. 0. 0. 0. 0.]\n",
      " ...\n",
      " [0. 0. 0. 0. 1.]\n",
      " [0. 0. 0. 0. 1.]\n",
      " [0. 0. 0. 0. 1.]]\n",
      "Matrix with random numbers (random=True):\n",
      " [[ 3.48357077  0.          0.          0.          0.        ]\n",
      " [ 0.30867849  0.          0.          0.          0.        ]\n",
      " [ 4.23844269  0.          0.          0.          0.        ]\n",
      " ...\n",
      " [ 0.          0.          0.          0.         -0.39880084]\n",
      " [ 0.          0.          0.          0.          4.95185948]\n",
      " [ 0.          0.          0.          0.          2.70025647]]\n"
     ]
    }
   ],
   "source": [
    "def create_matrix(\n",
    "    num_factors, num_variables, block_size, overlap, random=False, mean=1, std_dev=5\n",
    "):\n",
    "    # Initialize B as a zero matrix of size (num_sim, num_variables)\n",
    "    B = np.zeros((num_variables, num_factors))\n",
    "\n",
    "    # Parameters for the block pattern\n",
    "    block_gap = block_size - overlap\n",
    "\n",
    "    start_rows = 0 \n",
    "    col = 0\n",
    "\n",
    "    # For each column, fill the blocks with 1's or random numbers drawn from a normal distribution if random=True\n",
    "    while start_rows + block_size <= num_variables and col<num_factors:\n",
    "\n",
    "        end_row = min(start_rows + block_size, num_variables)\n",
    "        # Fill with random numbers from a normal distribution or with 1's\n",
    "        if random:\n",
    "            # Replace 1's with random numbers drawn from a normal distribution with mean=1 and high variance\n",
    "            B[start_rows : end_row, col] = np.random.normal(\n",
    "                loc=mean, scale=std_dev, size=(end_row - start_indices[col])\n",
    "            )\n",
    "        else:\n",
    "            # Fill with 1's for the defined block\n",
    "            B[start_rows : end_row, col] = 1\n",
    "        \n",
    "        start_rows += block_gap\n",
    "        col += 1\n",
    "\n",
    "    return B\n",
    "\n",
    "\n",
    "# Example usage:\n",
    "num_factors = 8\n",
    "num_variables = 1956\n",
    "block_size = 500\n",
    "overlap = 136\n",
    "\n",
    "# Call the function with random=False to match the original behavior\n",
    "B = create_matrix(num_sim, num_variables, block_size, overlap, random=False)\n",
    "\n",
    "# Call the function with random=True to fill with random numbers from a normal distribution\n",
    "B_random = create_matrix(\n",
    "    num_sim, num_variables, block_size, overlap, random=True, mean=1, std_dev=5\n",
    ")\n",
    "\n",
    "# Print results\n",
    "print(\"Matrix with 1's (random=False):\\n\", B[:,:5])\n",
    "print(\"Matrix with random numbers (random=True):\\n\", B_random[:, :5])"
   ]
  },
  {
   "cell_type": "code",
   "execution_count": 9,
   "metadata": {},
   "outputs": [],
   "source": [
    "DataGeneratingProcess = NormalBayesianFactorDGP(B=B_random, Sigma=Sigma)\n",
    "\n",
    "Y_sim = DataGeneratingProcess.simulate(size=num_sim)"
   ]
  },
  {
   "cell_type": "code",
   "execution_count": 10,
   "metadata": {},
   "outputs": [
    {
     "data": {
      "text/plain": [
       "array([[-6.38742511e+00,  6.02557314e-01,  4.03703622e-01, ...,\n",
       "         6.45864672e-01,  3.36871250e+00,  8.47003462e-01],\n",
       "       [ 1.12427970e+00, -7.30981563e-03,  3.58005877e-01, ...,\n",
       "        -7.26750214e-01,  1.23175542e+00, -1.44326985e+00],\n",
       "       [-3.93402574e+00,  2.49288625e+00,  3.57635020e-01, ...,\n",
       "         2.54052664e-01,  3.46512447e+00,  2.04878915e+00],\n",
       "       ...,\n",
       "       [ 1.35160066e-01, -1.10315883e+00,  2.46677774e+00, ...,\n",
       "         2.13541498e+00, -1.43631151e+00, -1.30669535e+00],\n",
       "       [ 1.92017984e+00,  5.12845552e+00, -4.78270460e+00, ...,\n",
       "        -8.55175149e+00,  1.30782819e+00,  2.19608097e+00],\n",
       "       [ 7.27154143e-01,  2.25557367e+00, -4.08215496e+00, ...,\n",
       "        -4.50676447e+00,  4.80385715e-01,  9.74183586e-01]],\n",
       "      shape=(1956, 100))"
      ]
     },
     "execution_count": 10,
     "metadata": {},
     "output_type": "execute_result"
    }
   ],
   "source": [
    "Y_sim"
   ]
  },
  {
   "cell_type": "code",
   "execution_count": 3,
   "metadata": {},
   "outputs": [
    {
     "data": {
      "text/plain": [
       "1"
      ]
     },
     "execution_count": 3,
     "metadata": {},
     "output_type": "execute_result"
    }
   ],
   "source": [
    "5//3"
   ]
  },
  {
   "cell_type": "code",
   "execution_count": 1,
   "metadata": {},
   "outputs": [
    {
     "name": "stderr",
     "output_type": "stream",
     "text": [
      "Gibbs Sampling:   0%|          | 1/1000 [00:06<1:45:57,  6.36s/iter]"
     ]
    },
    {
     "name": "stdout",
     "output_type": "stream",
     "text": [
      "Check Theta: tensor([0.2762, 0.2627, 0.2576, 0.2487, 0.2436, 0.0082, 0.0081, 0.0079],\n",
      "       device='mps:0')\n"
     ]
    },
    {
     "name": "stderr",
     "output_type": "stream",
     "text": [
      "Gibbs Sampling:   0%|          | 2/1000 [00:08<1:05:48,  3.96s/iter]"
     ]
    },
    {
     "name": "stdout",
     "output_type": "stream",
     "text": [
      "Check Theta: tensor([0.2722, 0.2715, 0.2584, 0.2550, 0.2453, 0.0000, 0.0000, 0.0000],\n",
      "       device='mps:0')\n"
     ]
    },
    {
     "name": "stderr",
     "output_type": "stream",
     "text": [
      "Gibbs Sampling:   0%|          | 3/1000 [00:10<46:52,  2.82s/iter]  "
     ]
    },
    {
     "name": "stdout",
     "output_type": "stream",
     "text": [
      "Check Theta: tensor([0.2876, 0.2631, 0.2591, 0.2566, 0.2482, 0.0000, 0.0000, 0.0000],\n",
      "       device='mps:0')\n"
     ]
    },
    {
     "name": "stderr",
     "output_type": "stream",
     "text": [
      "Gibbs Sampling:   0%|          | 4/1000 [00:11<37:29,  2.26s/iter]"
     ]
    },
    {
     "name": "stdout",
     "output_type": "stream",
     "text": [
      "Check Theta: tensor([0.2676, 0.2531, 0.2513, 0.2506, 0.2430, 0.0000, 0.0000, 0.0000],\n",
      "       device='mps:0')\n"
     ]
    },
    {
     "name": "stderr",
     "output_type": "stream",
     "text": [
      "Gibbs Sampling:   0%|          | 5/1000 [00:12<32:35,  1.97s/iter]"
     ]
    },
    {
     "name": "stdout",
     "output_type": "stream",
     "text": [
      "Check Theta: tensor([0.2700, 0.2511, 0.2510, 0.2502, 0.2470, 0.0000, 0.0000, 0.0000],\n",
      "       device='mps:0')\n"
     ]
    },
    {
     "name": "stderr",
     "output_type": "stream",
     "text": [
      "Gibbs Sampling:   1%|          | 6/1000 [00:14<29:30,  1.78s/iter]"
     ]
    },
    {
     "name": "stdout",
     "output_type": "stream",
     "text": [
      "Check Theta: tensor([0.2688, 0.2612, 0.2457, 0.2439, 0.2313, 0.0000, 0.0000, 0.0000],\n",
      "       device='mps:0')\n"
     ]
    },
    {
     "name": "stderr",
     "output_type": "stream",
     "text": [
      "Gibbs Sampling:   1%|          | 7/1000 [00:15<27:50,  1.68s/iter]"
     ]
    },
    {
     "name": "stdout",
     "output_type": "stream",
     "text": [
      "Check Theta: tensor([0.2735, 0.2573, 0.2512, 0.2457, 0.2406, 0.0000, 0.0000, 0.0000],\n",
      "       device='mps:0')\n"
     ]
    },
    {
     "name": "stderr",
     "output_type": "stream",
     "text": [
      "Gibbs Sampling:   1%|          | 8/1000 [00:17<26:26,  1.60s/iter]"
     ]
    },
    {
     "name": "stdout",
     "output_type": "stream",
     "text": [
      "Check Theta: tensor([0.2633, 0.2599, 0.2519, 0.2492, 0.2439, 0.0000, 0.0000, 0.0000],\n",
      "       device='mps:0')\n"
     ]
    },
    {
     "name": "stderr",
     "output_type": "stream",
     "text": [
      "Gibbs Sampling:   1%|          | 9/1000 [00:18<25:52,  1.57s/iter]"
     ]
    },
    {
     "name": "stdout",
     "output_type": "stream",
     "text": [
      "Check Theta: tensor([0.2627, 0.2548, 0.2534, 0.2411, 0.2383, 0.0000, 0.0000, 0.0000],\n",
      "       device='mps:0')\n"
     ]
    },
    {
     "name": "stderr",
     "output_type": "stream",
     "text": [
      "Gibbs Sampling:   1%|          | 10/1000 [00:20<25:13,  1.53s/iter]"
     ]
    },
    {
     "name": "stdout",
     "output_type": "stream",
     "text": [
      "Check Theta: tensor([0.2642, 0.2614, 0.2509, 0.2504, 0.2367, 0.0000, 0.0000, 0.0000],\n",
      "       device='mps:0')\n"
     ]
    },
    {
     "name": "stderr",
     "output_type": "stream",
     "text": [
      "Gibbs Sampling:   1%|          | 12/1000 [00:23<32:27,  1.97s/iter]\n"
     ]
    },
    {
     "ename": "KeyboardInterrupt",
     "evalue": "",
     "output_type": "error",
     "traceback": [
      "\u001b[0;31m---------------------------------------------------------------------------\u001b[0m",
      "\u001b[0;31mKeyboardInterrupt\u001b[0m                         Traceback (most recent call last)",
      "Cell \u001b[0;32mIn[1], line 83\u001b[0m\n\u001b[1;32m     68\u001b[0m SparseGibbsSampling \u001b[38;5;241m=\u001b[39m SpSlNormalBayesianFactorGibbs(\n\u001b[1;32m     69\u001b[0m     Y\u001b[38;5;241m=\u001b[39mY_sim,\n\u001b[1;32m     70\u001b[0m     B\u001b[38;5;241m=\u001b[39mBTrue,\n\u001b[0;32m   (...)\u001b[0m\n\u001b[1;32m     79\u001b[0m     device\u001b[38;5;241m=\u001b[39m\u001b[38;5;124m\"\u001b[39m\u001b[38;5;124mmps\u001b[39m\u001b[38;5;124m\"\u001b[39m,  \u001b[38;5;66;03m# You can change it to \"cuda\" if running on GPU\u001b[39;00m\n\u001b[1;32m     80\u001b[0m )\n\u001b[1;32m     82\u001b[0m \u001b[38;5;66;03m# Perform Gibbs Sampler for posterior\u001b[39;00m\n\u001b[0;32m---> 83\u001b[0m \u001b[43mSparseGibbsSampling\u001b[49m\u001b[38;5;241;43m.\u001b[39;49m\u001b[43mperform_gibbs_sampling\u001b[49m\u001b[43m(\u001b[49m\u001b[43miterations\u001b[49m\u001b[38;5;241;43m=\u001b[39;49m\u001b[38;5;241;43m1000\u001b[39;49m\u001b[43m)\u001b[49m\n",
      "File \u001b[0;32m~/CSENSAE/bayesian_statistics/bayesian_factor/src/sampling/sparse_normal_factor_gibbs.py:135\u001b[0m, in \u001b[0;36mSpSlNormalBayesianFactorGibbs.perform_gibbs_sampling\u001b[0;34m(self, iterations, store, plot)\u001b[0m\n\u001b[1;32m    133\u001b[0m \u001b[38;5;28mself\u001b[39m\u001b[38;5;241m.\u001b[39msample_features_allocation(store\u001b[38;5;241m=\u001b[39mstore)\n\u001b[1;32m    134\u001b[0m \u001b[38;5;28mself\u001b[39m\u001b[38;5;241m.\u001b[39msample_features_sparsity(store\u001b[38;5;241m=\u001b[39mstore)\n\u001b[0;32m--> 135\u001b[0m \u001b[38;5;28;43mself\u001b[39;49m\u001b[38;5;241;43m.\u001b[39;49m\u001b[43msample_loadings\u001b[49m\u001b[43m(\u001b[49m\u001b[43mstore\u001b[49m\u001b[38;5;241;43m=\u001b[39;49m\u001b[43mstore\u001b[49m\u001b[43m)\u001b[49m\n\u001b[1;32m    136\u001b[0m \u001b[38;5;28mself\u001b[39m\u001b[38;5;241m.\u001b[39msample_diag_covariance(store\u001b[38;5;241m=\u001b[39mstore)\n\u001b[1;32m    138\u001b[0m \u001b[38;5;66;03m# Update the progress bar\u001b[39;00m\n",
      "File \u001b[0;32m~/CSENSAE/bayesian_statistics/bayesian_factor/src/sampling/sparse_normal_factor_gibbs.py:176\u001b[0m, in \u001b[0;36mSpSlNormalBayesianFactorGibbs.sample_loadings\u001b[0;34m(self, store)\u001b[0m\n\u001b[1;32m    173\u001b[0m sigma \u001b[38;5;241m=\u001b[39m torch\u001b[38;5;241m.\u001b[39msqrt(\u001b[38;5;241m1\u001b[39m \u001b[38;5;241m/\u001b[39m (\u001b[38;5;241m2\u001b[39m \u001b[38;5;241m*\u001b[39m a))\u001b[38;5;241m.\u001b[39mcpu()\n\u001b[1;32m    175\u001b[0m \u001b[38;5;66;03m# Simulate samples using CPU for now (replace with GPU-adapted truncated sampler if available)\u001b[39;00m\n\u001b[0;32m--> 176\u001b[0m \u001b[38;5;28mself\u001b[39m\u001b[38;5;241m.\u001b[39mB \u001b[38;5;241m=\u001b[39m \u001b[43mparallelized_loading\u001b[49m\u001b[43m(\u001b[49m\n\u001b[1;32m    177\u001b[0m \u001b[43m    \u001b[49m\u001b[43mmu_pos\u001b[49m\u001b[38;5;241;43m=\u001b[39;49m\u001b[43mmu_pos\u001b[49m\u001b[43m,\u001b[49m\n\u001b[1;32m    178\u001b[0m \u001b[43m    \u001b[49m\u001b[43mmu_neg\u001b[49m\u001b[38;5;241;43m=\u001b[39;49m\u001b[43mmu_neg\u001b[49m\u001b[43m,\u001b[49m\n\u001b[1;32m    179\u001b[0m \u001b[43m    \u001b[49m\u001b[43msigma\u001b[49m\u001b[38;5;241;43m=\u001b[39;49m\u001b[43msigma\u001b[49m\u001b[43m,\u001b[49m\n\u001b[1;32m    180\u001b[0m \u001b[43m    \u001b[49m\u001b[43mnum_var\u001b[49m\u001b[38;5;241;43m=\u001b[39;49m\u001b[38;5;28;43mself\u001b[39;49m\u001b[38;5;241;43m.\u001b[39;49m\u001b[43mnum_var\u001b[49m\u001b[43m,\u001b[49m\n\u001b[1;32m    181\u001b[0m \u001b[43m    \u001b[49m\u001b[43mnum_factor\u001b[49m\u001b[38;5;241;43m=\u001b[39;49m\u001b[38;5;28;43mself\u001b[39;49m\u001b[38;5;241;43m.\u001b[39;49m\u001b[43mnum_factor\u001b[49m\u001b[43m,\u001b[49m\n\u001b[1;32m    182\u001b[0m \u001b[43m    \u001b[49m\u001b[43mdevice\u001b[49m\u001b[38;5;241;43m=\u001b[39;49m\u001b[38;5;28;43mself\u001b[39;49m\u001b[38;5;241;43m.\u001b[39;49m\u001b[43mdevice\u001b[49m\u001b[43m,\u001b[49m\n\u001b[1;32m    183\u001b[0m \u001b[43m    \u001b[49m\u001b[43mfloat_storage\u001b[49m\u001b[38;5;241;43m=\u001b[39;49m\u001b[38;5;28;43mself\u001b[39;49m\u001b[38;5;241;43m.\u001b[39;49m\u001b[43mfloat_storage\u001b[49m\u001b[43m,\u001b[49m\n\u001b[1;32m    184\u001b[0m \u001b[43m\u001b[49m\u001b[43m)\u001b[49m  \u001b[38;5;66;03m# parallelize and assess what is slow\u001b[39;00m\n\u001b[1;32m    186\u001b[0m \u001b[38;5;28;01mif\u001b[39;00m store:\n\u001b[1;32m    187\u001b[0m     \u001b[38;5;28mself\u001b[39m\u001b[38;5;241m.\u001b[39mpaths[\u001b[38;5;124m\"\u001b[39m\u001b[38;5;124mB\u001b[39m\u001b[38;5;124m\"\u001b[39m]\u001b[38;5;241m.\u001b[39mappend(\u001b[38;5;28mself\u001b[39m\u001b[38;5;241m.\u001b[39mB\u001b[38;5;241m.\u001b[39mcpu()\u001b[38;5;241m.\u001b[39mnumpy())\n",
      "File \u001b[0;32m~/CSENSAE/bayesian_statistics/bayesian_factor/src/sampling/sparse_normal_factor_gibbs.py:29\u001b[0m, in \u001b[0;36mparallelized_loading\u001b[0;34m(mu_pos, mu_neg, sigma, num_var, num_factor, device, float_storage)\u001b[0m\n\u001b[1;32m     24\u001b[0m args \u001b[38;5;241m=\u001b[39m [\n\u001b[1;32m     25\u001b[0m     (mu_pos[j, k]\u001b[38;5;241m.\u001b[39mitem(), mu_neg[j, k]\u001b[38;5;241m.\u001b[39mitem(), sigma[j, k]\u001b[38;5;241m.\u001b[39mitem())\n\u001b[1;32m     26\u001b[0m     \u001b[38;5;28;01mfor\u001b[39;00m j, k \u001b[38;5;129;01min\u001b[39;00m indices\n\u001b[1;32m     27\u001b[0m ]\n\u001b[1;32m     28\u001b[0m \u001b[38;5;66;03m# Use Joblib for parallel execution\u001b[39;00m\n\u001b[0;32m---> 29\u001b[0m samples \u001b[38;5;241m=\u001b[39m \u001b[43mParallel\u001b[49m\u001b[43m(\u001b[49m\u001b[43mn_jobs\u001b[49m\u001b[38;5;241;43m=\u001b[39;49m\u001b[38;5;241;43m-\u001b[39;49m\u001b[38;5;241;43m1\u001b[39;49m\u001b[43m)\u001b[49m\u001b[43m(\u001b[49m\u001b[43mdelayed\u001b[49m\u001b[43m(\u001b[49m\u001b[43msimulate_loading\u001b[49m\u001b[43m)\u001b[49m\u001b[43m(\u001b[49m\u001b[43marg\u001b[49m\u001b[43m)\u001b[49m\u001b[43m \u001b[49m\u001b[38;5;28;43;01mfor\u001b[39;49;00m\u001b[43m \u001b[49m\u001b[43marg\u001b[49m\u001b[43m \u001b[49m\u001b[38;5;129;43;01min\u001b[39;49;00m\u001b[43m \u001b[49m\u001b[43margs\u001b[49m\u001b[43m)\u001b[49m\n\u001b[1;32m     31\u001b[0m \u001b[38;5;66;03m# Reshape the output\u001b[39;00m\n\u001b[1;32m     32\u001b[0m B \u001b[38;5;241m=\u001b[39m torch\u001b[38;5;241m.\u001b[39mtensor(np\u001b[38;5;241m.\u001b[39marray(samples), dtype\u001b[38;5;241m=\u001b[39mfloat_storage, device\u001b[38;5;241m=\u001b[39mdevice)\u001b[38;5;241m.\u001b[39mreshape(\n\u001b[1;32m     33\u001b[0m     num_var, num_factor\n\u001b[1;32m     34\u001b[0m )  \u001b[38;5;66;03m# work on reshape\u001b[39;00m\n",
      "File \u001b[0;32m~/CSENSAE/bayesian_statistics/bayesian_factor/.venv/lib/python3.12/site-packages/joblib/parallel.py:2007\u001b[0m, in \u001b[0;36mParallel.__call__\u001b[0;34m(self, iterable)\u001b[0m\n\u001b[1;32m   2001\u001b[0m \u001b[38;5;66;03m# The first item from the output is blank, but it makes the interpreter\u001b[39;00m\n\u001b[1;32m   2002\u001b[0m \u001b[38;5;66;03m# progress until it enters the Try/Except block of the generator and\u001b[39;00m\n\u001b[1;32m   2003\u001b[0m \u001b[38;5;66;03m# reaches the first `yield` statement. This starts the asynchronous\u001b[39;00m\n\u001b[1;32m   2004\u001b[0m \u001b[38;5;66;03m# dispatch of the tasks to the workers.\u001b[39;00m\n\u001b[1;32m   2005\u001b[0m \u001b[38;5;28mnext\u001b[39m(output)\n\u001b[0;32m-> 2007\u001b[0m \u001b[38;5;28;01mreturn\u001b[39;00m output \u001b[38;5;28;01mif\u001b[39;00m \u001b[38;5;28mself\u001b[39m\u001b[38;5;241m.\u001b[39mreturn_generator \u001b[38;5;28;01melse\u001b[39;00m \u001b[38;5;28;43mlist\u001b[39;49m\u001b[43m(\u001b[49m\u001b[43moutput\u001b[49m\u001b[43m)\u001b[49m\n",
      "File \u001b[0;32m~/CSENSAE/bayesian_statistics/bayesian_factor/.venv/lib/python3.12/site-packages/joblib/parallel.py:1650\u001b[0m, in \u001b[0;36mParallel._get_outputs\u001b[0;34m(self, iterator, pre_dispatch)\u001b[0m\n\u001b[1;32m   1647\u001b[0m     \u001b[38;5;28;01myield\u001b[39;00m\n\u001b[1;32m   1649\u001b[0m     \u001b[38;5;28;01mwith\u001b[39;00m \u001b[38;5;28mself\u001b[39m\u001b[38;5;241m.\u001b[39m_backend\u001b[38;5;241m.\u001b[39mretrieval_context():\n\u001b[0;32m-> 1650\u001b[0m         \u001b[38;5;28;01myield from\u001b[39;00m \u001b[38;5;28mself\u001b[39m\u001b[38;5;241m.\u001b[39m_retrieve()\n\u001b[1;32m   1652\u001b[0m \u001b[38;5;28;01mexcept\u001b[39;00m \u001b[38;5;167;01mGeneratorExit\u001b[39;00m:\n\u001b[1;32m   1653\u001b[0m     \u001b[38;5;66;03m# The generator has been garbage collected before being fully\u001b[39;00m\n\u001b[1;32m   1654\u001b[0m     \u001b[38;5;66;03m# consumed. This aborts the remaining tasks if possible and warn\u001b[39;00m\n\u001b[1;32m   1655\u001b[0m     \u001b[38;5;66;03m# the user if necessary.\u001b[39;00m\n\u001b[1;32m   1656\u001b[0m     \u001b[38;5;28mself\u001b[39m\u001b[38;5;241m.\u001b[39m_exception \u001b[38;5;241m=\u001b[39m \u001b[38;5;28;01mTrue\u001b[39;00m\n",
      "File \u001b[0;32m~/CSENSAE/bayesian_statistics/bayesian_factor/.venv/lib/python3.12/site-packages/joblib/parallel.py:1762\u001b[0m, in \u001b[0;36mParallel._retrieve\u001b[0;34m(self)\u001b[0m\n\u001b[1;32m   1757\u001b[0m \u001b[38;5;66;03m# If the next job is not ready for retrieval yet, we just wait for\u001b[39;00m\n\u001b[1;32m   1758\u001b[0m \u001b[38;5;66;03m# async callbacks to progress.\u001b[39;00m\n\u001b[1;32m   1759\u001b[0m \u001b[38;5;28;01mif\u001b[39;00m ((\u001b[38;5;28mlen\u001b[39m(\u001b[38;5;28mself\u001b[39m\u001b[38;5;241m.\u001b[39m_jobs) \u001b[38;5;241m==\u001b[39m \u001b[38;5;241m0\u001b[39m) \u001b[38;5;129;01mor\u001b[39;00m\n\u001b[1;32m   1760\u001b[0m     (\u001b[38;5;28mself\u001b[39m\u001b[38;5;241m.\u001b[39m_jobs[\u001b[38;5;241m0\u001b[39m]\u001b[38;5;241m.\u001b[39mget_status(\n\u001b[1;32m   1761\u001b[0m         timeout\u001b[38;5;241m=\u001b[39m\u001b[38;5;28mself\u001b[39m\u001b[38;5;241m.\u001b[39mtimeout) \u001b[38;5;241m==\u001b[39m TASK_PENDING)):\n\u001b[0;32m-> 1762\u001b[0m     \u001b[43mtime\u001b[49m\u001b[38;5;241;43m.\u001b[39;49m\u001b[43msleep\u001b[49m\u001b[43m(\u001b[49m\u001b[38;5;241;43m0.01\u001b[39;49m\u001b[43m)\u001b[49m\n\u001b[1;32m   1763\u001b[0m     \u001b[38;5;28;01mcontinue\u001b[39;00m\n\u001b[1;32m   1765\u001b[0m \u001b[38;5;66;03m# We need to be careful: the job list can be filling up as\u001b[39;00m\n\u001b[1;32m   1766\u001b[0m \u001b[38;5;66;03m# we empty it and Python list are not thread-safe by\u001b[39;00m\n\u001b[1;32m   1767\u001b[0m \u001b[38;5;66;03m# default hence the use of the lock\u001b[39;00m\n",
      "\u001b[0;31mKeyboardInterrupt\u001b[0m: "
     ]
    }
   ],
   "source": [
    "import torch\n",
    "\n",
    "from src.simulations.normal_bayesian_factor_dgp import NormalBayesianFactorDGP\n",
    "from src.sampling.sparse_normal_factor_gibbs import (\n",
    "    SpSlNormalBayesianFactorGibbs,\n",
    ")\n",
    "from src.utils.setup.create_true_loadings import create_true_loadings\n",
    "\n",
    "# TODO modify this to have the possibility to set the parameter when running the file\n",
    "\n",
    "# Force Random Seed\n",
    "# np.random.seed(42)\n",
    "\n",
    "# Normal Factor Bayesian Dimensions\n",
    "num_sim = 100\n",
    "num_variables = 1956\n",
    "num_factors = 8\n",
    "\n",
    "# True Loadings Settings\n",
    "block_size = 500\n",
    "overlap = 136\n",
    "random = False\n",
    "mean = 1\n",
    "std = 5\n",
    "\n",
    "# Hyperparameters\n",
    "alpha = 1 / num_variables\n",
    "eta = 1\n",
    "epsilon = 1\n",
    "lambda0 = 20  # try with lambda greater\n",
    "lambda1 = 0.1\n",
    "\n",
    "\n",
    "# True Parameters\n",
    "BTrue = create_true_loadings(\n",
    "    num_factors=num_factors,\n",
    "    num_variables=num_variables,\n",
    "    block_size=block_size,\n",
    "    overlap=overlap,\n",
    "    random=random,\n",
    "    mean=mean,\n",
    "    std=std,\n",
    ")\n",
    "\n",
    "SigmaTrue = torch.ones(\n",
    "    num_variables\n",
    ")  # TODO define a function to create_true_covariance either random or not\n",
    "\n",
    "# Initial Latent Parameters\n",
    "Gamma0 = create_true_loadings(\n",
    "    num_factors=num_factors,\n",
    "    num_variables=num_variables,\n",
    "    block_size=block_size,\n",
    "    overlap=overlap,\n",
    ")\n",
    "\n",
    "Theta0 = torch.full((num_factors,), 0.5)\n",
    "\n",
    "# Simulated Value for Y\n",
    "DataGeneratingProcess = NormalBayesianFactorDGP(B=BTrue, Sigma=SigmaTrue)\n",
    "\n",
    "Y_sim = DataGeneratingProcess.simulate(size=num_sim)\n",
    "\n",
    "# This block ensures multiprocessing works on Windows/macOS\n",
    "if __name__ == \"__main__\":\n",
    "\n",
    "    # Initiate Bayesian Normal Factor Gibbs Sampler\n",
    "    SparseGibbsSampling = SpSlNormalBayesianFactorGibbs(\n",
    "        Y=Y_sim,\n",
    "        B=BTrue,\n",
    "        Sigma=SigmaTrue,\n",
    "        Gamma=Gamma0,\n",
    "        Theta=Theta0,\n",
    "        alpha=alpha,\n",
    "        eta=eta,\n",
    "        epsilon=epsilon,\n",
    "        lambda0=lambda0,\n",
    "        lambda1=lambda1,\n",
    "        device=\"mps\",  # You can change it to \"cuda\" if running on GPU\n",
    "    )\n",
    "\n",
    "    # Perform Gibbs Sampler for posterior\n",
    "    SparseGibbsSampling.perform_gibbs_sampling(iterations=1000)"
   ]
  },
  {
   "cell_type": "code",
   "execution_count": 3,
   "metadata": {},
   "outputs": [
    {
     "data": {
      "text/plain": [
       "tensor([[ 2.4289e+00,  8.4225e-03, -3.2846e-03,  ...,  3.8446e-03,\n",
       "         -6.2573e-02,  9.7383e-03],\n",
       "        [ 2.5090e+00,  2.9699e-02,  1.8504e-04,  ...,  3.2884e-02,\n",
       "         -1.3420e-01, -1.7443e-02],\n",
       "        [ 2.4299e+00,  1.0049e-02, -1.4672e-02,  ..., -1.0198e-02,\n",
       "         -2.5804e-01,  6.7464e-02],\n",
       "        ...,\n",
       "        [ 6.2644e-02,  6.2889e-02,  4.2242e-02,  ...,  4.2448e-02,\n",
       "          2.6363e-01, -6.3123e-01],\n",
       "        [ 2.1243e-02,  1.8368e-02,  4.6826e-02,  ...,  1.6258e-02,\n",
       "          4.4344e-02, -1.4024e-01],\n",
       "        [-1.3659e-02, -1.1582e-02, -3.5751e-02,  ..., -9.6256e-03,\n",
       "         -2.6864e-01,  1.0574e-01]], device='mps:0')"
      ]
     },
     "execution_count": 3,
     "metadata": {},
     "output_type": "execute_result"
    }
   ],
   "source": [
    "SparseGibbsSampling.B"
   ]
  },
  {
   "cell_type": "code",
   "execution_count": 2,
   "metadata": {},
   "outputs": [
    {
     "name": "stdout",
     "output_type": "stream",
     "text": [
      "tensor([0.3217, 0.6954, 0.1140])\n"
     ]
    }
   ],
   "source": [
    "import torch\n",
    "\n",
    "# Example list of matrices\n",
    "matrices = [\n",
    "    torch.rand(4, 4),\n",
    "    torch.rand(4, 4),\n",
    "    torch.rand(4, 4),  # Replace with your actual matrices\n",
    "]\n",
    "\n",
    "# Indices of the coefficient you want to extract\n",
    "j, k = 1, 2  # For example, get the element at row 1, column 2\n",
    "\n",
    "# Extract the coefficients using list comprehension and stack them into a tensor\n",
    "result = torch.tensor([matrix[j, k] for matrix in matrices])#.view(-1, 1)\n",
    "\n",
    "print(result)"
   ]
  },
  {
   "cell_type": "code",
   "execution_count": null,
   "metadata": {},
   "outputs": [
    {
     "name": "stderr",
     "output_type": "stream",
     "text": [
      "Gibbs Sampling:   0%|          | 1/1000 [00:06<1:42:01,  6.13s/iter]"
     ]
    },
    {
     "name": "stdout",
     "output_type": "stream",
     "text": [
      "Check Theta: tensor([0.2777, 0.2768, 0.2760, 0.2746, 0.2529, 0.0088, 0.0054, 0.0035],\n",
      "       device='mps:0')\n"
     ]
    },
    {
     "name": "stderr",
     "output_type": "stream",
     "text": [
      "Gibbs Sampling:   0%|          | 2/1000 [00:08<1:01:57,  3.72s/iter]"
     ]
    },
    {
     "name": "stdout",
     "output_type": "stream",
     "text": [
      "Check Theta: tensor([0.2862, 0.2765, 0.2758, 0.2723, 0.2719, 0.0000, 0.0000, 0.0000],\n",
      "       device='mps:0')\n"
     ]
    },
    {
     "name": "stderr",
     "output_type": "stream",
     "text": [
      "Gibbs Sampling:   0%|          | 3/1000 [00:10<47:38,  2.87s/iter]  "
     ]
    },
    {
     "name": "stdout",
     "output_type": "stream",
     "text": [
      "Check Theta: tensor([0.2844, 0.2729, 0.2707, 0.2678, 0.2662, 0.0000, 0.0000, 0.0000],\n",
      "       device='mps:0')\n"
     ]
    },
    {
     "name": "stderr",
     "output_type": "stream",
     "text": [
      "Gibbs Sampling:   0%|          | 4/1000 [00:11<41:40,  2.51s/iter]"
     ]
    },
    {
     "name": "stdout",
     "output_type": "stream",
     "text": [
      "Check Theta: tensor([0.2718, 0.2615, 0.2603, 0.2562, 0.2530, 0.0000, 0.0000, 0.0000],\n",
      "       device='mps:0')\n"
     ]
    },
    {
     "name": "stderr",
     "output_type": "stream",
     "text": [
      "Gibbs Sampling:   0%|          | 5/1000 [00:13<37:45,  2.28s/iter]"
     ]
    },
    {
     "name": "stdout",
     "output_type": "stream",
     "text": [
      "Check Theta: tensor([0.2689, 0.2653, 0.2545, 0.2536, 0.2472, 0.0000, 0.0000, 0.0000],\n",
      "       device='mps:0')\n"
     ]
    },
    {
     "name": "stderr",
     "output_type": "stream",
     "text": [
      "Gibbs Sampling:   1%|          | 6/1000 [00:15<35:18,  2.13s/iter]"
     ]
    },
    {
     "name": "stdout",
     "output_type": "stream",
     "text": [
      "Check Theta: tensor([0.2715, 0.2670, 0.2611, 0.2544, 0.2506, 0.0000, 0.0000, 0.0000],\n",
      "       device='mps:0')\n"
     ]
    },
    {
     "name": "stderr",
     "output_type": "stream",
     "text": [
      "Gibbs Sampling:   1%|          | 7/1000 [00:17<33:44,  2.04s/iter]"
     ]
    },
    {
     "name": "stdout",
     "output_type": "stream",
     "text": [
      "Check Theta: tensor([0.2735, 0.2701, 0.2629, 0.2598, 0.2467, 0.0000, 0.0000, 0.0000],\n",
      "       device='mps:0')\n"
     ]
    },
    {
     "name": "stderr",
     "output_type": "stream",
     "text": [
      "Gibbs Sampling:   1%|          | 8/1000 [00:19<32:29,  1.97s/iter]"
     ]
    },
    {
     "name": "stdout",
     "output_type": "stream",
     "text": [
      "Check Theta: tensor([0.3346, 0.2734, 0.2665, 0.2619, 0.2591, 0.0000, 0.0000, 0.0000],\n",
      "       device='mps:0')\n"
     ]
    },
    {
     "name": "stderr",
     "output_type": "stream",
     "text": [
      "Gibbs Sampling:   1%|          | 9/1000 [00:21<31:31,  1.91s/iter]"
     ]
    },
    {
     "name": "stdout",
     "output_type": "stream",
     "text": [
      "Check Theta: tensor([0.4397, 0.3322, 0.2734, 0.2662, 0.2616, 0.0000, 0.0000, 0.0000],\n",
      "       device='mps:0')\n"
     ]
    },
    {
     "name": "stderr",
     "output_type": "stream",
     "text": [
      "Gibbs Sampling:   1%|          | 10/1000 [00:23<31:54,  1.93s/iter]"
     ]
    },
    {
     "name": "stdout",
     "output_type": "stream",
     "text": [
      "Check Theta: tensor([0.2825, 0.2765, 0.2756, 0.2669, 0.2627, 0.0000, 0.0000, 0.0000],\n",
      "       device='mps:0')\n"
     ]
    },
    {
     "name": "stderr",
     "output_type": "stream",
     "text": [
      "Gibbs Sampling:  10%|█         | 101/1000 [03:13<28:23,  1.89s/iter]"
     ]
    },
    {
     "name": "stdout",
     "output_type": "stream",
     "text": [
      "Check Theta: tensor([0.3067, 0.2894, 0.2810, 0.2607, 0.0000, 0.0000, 0.0000, 0.0000],\n",
      "       device='mps:0')\n"
     ]
    },
    {
     "name": "stderr",
     "output_type": "stream",
     "text": [
      "Gibbs Sampling:  20%|██        | 201/1000 [06:21<23:33,  1.77s/iter]"
     ]
    },
    {
     "name": "stdout",
     "output_type": "stream",
     "text": [
      "Check Theta: tensor([0.3184, 0.2884, 0.2753, 0.2743, 0.0000, 0.0000, 0.0000, 0.0000],\n",
      "       device='mps:0')\n"
     ]
    },
    {
     "name": "stderr",
     "output_type": "stream",
     "text": [
      "Gibbs Sampling:  30%|███       | 301/1000 [09:24<21:22,  1.83s/iter]"
     ]
    },
    {
     "name": "stdout",
     "output_type": "stream",
     "text": [
      "Check Theta: tensor([0.3277, 0.2911, 0.2874, 0.2803, 0.0000, 0.0000, 0.0000, 0.0000],\n",
      "       device='mps:0')\n"
     ]
    },
    {
     "name": "stderr",
     "output_type": "stream",
     "text": [
      "Gibbs Sampling:  40%|████      | 401/1000 [12:30<18:31,  1.86s/iter]"
     ]
    },
    {
     "name": "stdout",
     "output_type": "stream",
     "text": [
      "Check Theta: tensor([0.3149, 0.2853, 0.2629, 0.2510, 0.0000, 0.0000, 0.0000, 0.0000],\n",
      "       device='mps:0')\n"
     ]
    },
    {
     "name": "stderr",
     "output_type": "stream",
     "text": [
      "Gibbs Sampling:  50%|█████     | 501/1000 [15:37<15:49,  1.90s/iter]"
     ]
    },
    {
     "name": "stdout",
     "output_type": "stream",
     "text": [
      "Check Theta: tensor([0.3019, 0.2909, 0.2802, 0.2563, 0.0000, 0.0000, 0.0000, 0.0000],\n",
      "       device='mps:0')\n"
     ]
    },
    {
     "name": "stderr",
     "output_type": "stream",
     "text": [
      "Gibbs Sampling:  60%|██████    | 601/1000 [18:48<12:20,  1.85s/iter]"
     ]
    },
    {
     "name": "stdout",
     "output_type": "stream",
     "text": [
      "Check Theta: tensor([0.3041, 0.2948, 0.2837, 0.2599, 0.0000, 0.0000, 0.0000, 0.0000],\n",
      "       device='mps:0')\n"
     ]
    },
    {
     "name": "stderr",
     "output_type": "stream",
     "text": [
      "Gibbs Sampling:  70%|███████   | 701/1000 [22:04<10:12,  2.05s/iter]"
     ]
    },
    {
     "name": "stdout",
     "output_type": "stream",
     "text": [
      "Check Theta: tensor([0.2977, 0.2785, 0.2744, 0.2705, 0.0000, 0.0000, 0.0000, 0.0000],\n",
      "       device='mps:0')\n"
     ]
    },
    {
     "name": "stderr",
     "output_type": "stream",
     "text": [
      "Gibbs Sampling:  80%|████████  | 801/1000 [25:17<06:10,  1.86s/iter]"
     ]
    },
    {
     "name": "stdout",
     "output_type": "stream",
     "text": [
      "Check Theta: tensor([0.3025, 0.2771, 0.2768, 0.2687, 0.0000, 0.0000, 0.0000, 0.0000],\n",
      "       device='mps:0')\n"
     ]
    },
    {
     "name": "stderr",
     "output_type": "stream",
     "text": [
      "Gibbs Sampling:  90%|█████████ | 901/1000 [28:20<02:55,  1.77s/iter]"
     ]
    },
    {
     "name": "stdout",
     "output_type": "stream",
     "text": [
      "Check Theta: tensor([0.3233, 0.2887, 0.2813, 0.2717, 0.0000, 0.0000, 0.0000, 0.0000],\n",
      "       device='mps:0')\n"
     ]
    },
    {
     "name": "stderr",
     "output_type": "stream",
     "text": [
      "Gibbs Sampling: 100%|██████████| 1000/1000 [31:22<00:00,  1.88s/iter]\n",
      "Gibbs Sampling:   0%|          | 1/1000 [00:01<28:33,  1.71s/iter]"
     ]
    },
    {
     "name": "stdout",
     "output_type": "stream",
     "text": [
      "Check Theta: tensor([0.2948, 0.2904, 0.2839, 0.2829, 0.2819, 0.0000, 0.0000, 0.0000],\n",
      "       device='mps:0')\n"
     ]
    },
    {
     "name": "stderr",
     "output_type": "stream",
     "text": [
      "Gibbs Sampling:   0%|          | 2/1000 [00:03<29:46,  1.79s/iter]"
     ]
    },
    {
     "name": "stdout",
     "output_type": "stream",
     "text": [
      "Check Theta: tensor([0.2675, 0.2670, 0.2664, 0.2617, 0.2514, 0.0000, 0.0000, 0.0000],\n",
      "       device='mps:0')\n"
     ]
    },
    {
     "name": "stderr",
     "output_type": "stream",
     "text": [
      "Gibbs Sampling:   0%|          | 3/1000 [00:05<30:35,  1.84s/iter]"
     ]
    },
    {
     "name": "stdout",
     "output_type": "stream",
     "text": [
      "Check Theta: tensor([0.2641, 0.2640, 0.2588, 0.2557, 0.2487, 0.0000, 0.0000, 0.0000],\n",
      "       device='mps:0')\n"
     ]
    },
    {
     "name": "stderr",
     "output_type": "stream",
     "text": [
      "Gibbs Sampling:   0%|          | 4/1000 [00:07<30:16,  1.82s/iter]"
     ]
    },
    {
     "name": "stdout",
     "output_type": "stream",
     "text": [
      "Check Theta: tensor([0.2616, 0.2594, 0.2568, 0.2565, 0.2498, 0.0000, 0.0000, 0.0000],\n",
      "       device='mps:0')\n"
     ]
    },
    {
     "name": "stderr",
     "output_type": "stream",
     "text": [
      "Gibbs Sampling:   0%|          | 5/1000 [00:09<30:36,  1.85s/iter]"
     ]
    },
    {
     "name": "stdout",
     "output_type": "stream",
     "text": [
      "Check Theta: tensor([0.2626, 0.2611, 0.2568, 0.2564, 0.2466, 0.0000, 0.0000, 0.0000],\n",
      "       device='mps:0')\n"
     ]
    },
    {
     "name": "stderr",
     "output_type": "stream",
     "text": [
      "Gibbs Sampling:   1%|          | 6/1000 [00:11<31:02,  1.87s/iter]"
     ]
    },
    {
     "name": "stdout",
     "output_type": "stream",
     "text": [
      "Check Theta: tensor([0.2707, 0.2608, 0.2559, 0.2551, 0.2466, 0.0000, 0.0000, 0.0000],\n",
      "       device='mps:0')\n"
     ]
    },
    {
     "name": "stderr",
     "output_type": "stream",
     "text": [
      "Gibbs Sampling:   1%|          | 7/1000 [00:12<30:38,  1.85s/iter]"
     ]
    },
    {
     "name": "stdout",
     "output_type": "stream",
     "text": [
      "Check Theta: tensor([0.2680, 0.2641, 0.2571, 0.2526, 0.2517, 0.0000, 0.0000, 0.0000],\n",
      "       device='mps:0')\n"
     ]
    },
    {
     "name": "stderr",
     "output_type": "stream",
     "text": [
      "Gibbs Sampling:   1%|          | 8/1000 [00:14<30:36,  1.85s/iter]"
     ]
    },
    {
     "name": "stdout",
     "output_type": "stream",
     "text": [
      "Check Theta: tensor([0.2782, 0.2661, 0.2511, 0.2457, 0.2357, 0.0000, 0.0000, 0.0000],\n",
      "       device='mps:0')\n"
     ]
    },
    {
     "name": "stderr",
     "output_type": "stream",
     "text": [
      "Gibbs Sampling:   1%|          | 9/1000 [00:16<30:16,  1.83s/iter]"
     ]
    },
    {
     "name": "stdout",
     "output_type": "stream",
     "text": [
      "Check Theta: tensor([0.2713, 0.2712, 0.2622, 0.2510, 0.2451, 0.0000, 0.0000, 0.0000],\n",
      "       device='mps:0')\n"
     ]
    },
    {
     "name": "stderr",
     "output_type": "stream",
     "text": [
      "Gibbs Sampling:   1%|          | 10/1000 [00:18<30:16,  1.84s/iter]"
     ]
    },
    {
     "name": "stdout",
     "output_type": "stream",
     "text": [
      "Check Theta: tensor([0.3246, 0.2694, 0.2691, 0.2559, 0.2497, 0.0000, 0.0000, 0.0000],\n",
      "       device='mps:0')\n"
     ]
    },
    {
     "name": "stderr",
     "output_type": "stream",
     "text": [
      "Gibbs Sampling:  10%|█         | 101/1000 [03:04<26:15,  1.75s/iter]"
     ]
    },
    {
     "name": "stdout",
     "output_type": "stream",
     "text": [
      "Check Theta: tensor([0.2790, 0.2762, 0.2631, 0.2489, 0.2440, 0.0000, 0.0000, 0.0000],\n",
      "       device='mps:0')\n"
     ]
    },
    {
     "name": "stderr",
     "output_type": "stream",
     "text": [
      "Gibbs Sampling:  20%|██        | 201/1000 [06:07<24:35,  1.85s/iter]"
     ]
    },
    {
     "name": "stdout",
     "output_type": "stream",
     "text": [
      "Check Theta: tensor([0.2680, 0.2584, 0.2438, 0.2426, 0.2417, 0.0000, 0.0000, 0.0000],\n",
      "       device='mps:0')\n"
     ]
    },
    {
     "name": "stderr",
     "output_type": "stream",
     "text": [
      "Gibbs Sampling:  30%|███       | 301/1000 [09:11<23:13,  1.99s/iter]"
     ]
    },
    {
     "name": "stdout",
     "output_type": "stream",
     "text": [
      "Check Theta: tensor([0.2633, 0.2602, 0.2600, 0.2515, 0.2500, 0.0000, 0.0000, 0.0000],\n",
      "       device='mps:0')\n"
     ]
    },
    {
     "name": "stderr",
     "output_type": "stream",
     "text": [
      "Gibbs Sampling:  40%|████      | 401/1000 [12:18<18:10,  1.82s/iter]"
     ]
    },
    {
     "name": "stdout",
     "output_type": "stream",
     "text": [
      "Check Theta: tensor([0.2762, 0.2648, 0.2524, 0.2441, 0.2376, 0.0000, 0.0000, 0.0000],\n",
      "       device='mps:0')\n"
     ]
    },
    {
     "name": "stderr",
     "output_type": "stream",
     "text": [
      "Gibbs Sampling:  50%|█████     | 501/1000 [15:25<15:20,  1.84s/iter]"
     ]
    },
    {
     "name": "stdout",
     "output_type": "stream",
     "text": [
      "Check Theta: tensor([0.2670, 0.2598, 0.2537, 0.2490, 0.2297, 0.0000, 0.0000, 0.0000],\n",
      "       device='mps:0')\n"
     ]
    },
    {
     "name": "stderr",
     "output_type": "stream",
     "text": [
      "Gibbs Sampling:  58%|█████▊    | 576/1000 [17:47<13:57,  1.98s/iter]"
     ]
    }
   ],
   "source": [
    "import torch\n",
    "import numpy as np\n",
    "\n",
    "from src.simulations.normal_bayesian_factor_dgp import NormalBayesianFactorDGP\n",
    "from src.sampling.normal_factor_gibbs import (\n",
    "    SpSlNormalFactorGibbs,\n",
    ")\n",
    "from src.utils.setup.create_true_loadings import create_true_loadings\n",
    "\n",
    "# TODO modify this to have the possibility to set the parameter when running the file\n",
    "\n",
    "# Force Random Seed\n",
    "np.random.seed(42)\n",
    "torch.random.seed()\n",
    "\n",
    "# Normal Factor Bayesian Dimensions\n",
    "num_small = 100\n",
    "num_big = 1000\n",
    "num_variables = 1956\n",
    "num_factors = 8\n",
    "\n",
    "# True Loadings Settings\n",
    "block_size = 500\n",
    "overlap = 136\n",
    "random = False\n",
    "mean = 1\n",
    "std = 5\n",
    "\n",
    "# Hyperparameters\n",
    "alpha = 1 / num_variables\n",
    "eta = 1\n",
    "epsilon = 1\n",
    "lambda0 = 20  # try with lambda greater\n",
    "lambda1_sim_1 = 0.1\n",
    "lambda1_sim_2 = 0.001\n",
    "\n",
    "\n",
    "# True Parameters\n",
    "BTrue = create_true_loadings(\n",
    "    num_factors=num_factors,\n",
    "    num_variables=num_variables,\n",
    "    block_size=block_size,\n",
    "    overlap=overlap,\n",
    "    random=random,\n",
    "    mean=mean,\n",
    "    std=std,\n",
    ")\n",
    "\n",
    "SigmaTrue = torch.ones(\n",
    "    num_variables\n",
    ")  # TODO define a function to create_true_covariance either random or not\n",
    "\n",
    "# Initial Latent Parameters\n",
    "Gamma0 = create_true_loadings(\n",
    "    num_factors=num_factors,\n",
    "    num_variables=num_variables,\n",
    "    block_size=block_size,\n",
    "    overlap=overlap,\n",
    ")\n",
    "\n",
    "Theta0 = torch.full((num_factors,), 0.5)\n",
    "\n",
    "# Simulated Value for Y\n",
    "DataGeneratingProcess = NormalBayesianFactorDGP(B=BTrue, Sigma=SigmaTrue)\n",
    "\n",
    "Y_small = DataGeneratingProcess.simulate(size=num_small)\n",
    "Y_small = DataGeneratingProcess.simulate(size=num_big)\n",
    "\n",
    "# This block ensures multiprocessing works on Windows/macOS\n",
    "if __name__ == \"__main__\":\n",
    "\n",
    "    # Initiate Bayesian Normal Factor Gibbs Sampler\n",
    "    SparseGibbsSampling1 = SpSlNormalFactorGibbs(\n",
    "        Y=Y_small,\n",
    "        B=BTrue,\n",
    "        Sigma=SigmaTrue,\n",
    "        Gamma=Gamma0,\n",
    "        Theta=Theta0,\n",
    "        alpha=alpha,\n",
    "        eta=eta,\n",
    "        epsilon=epsilon,\n",
    "        lambda0=lambda0,\n",
    "        lambda1=lambda1_sim_1,\n",
    "        device=\"mps\",  # You can change it to \"cuda\" if running on GPU\n",
    "    )\n",
    "\n",
    "    # Perform Gibbs Sampler for posterior\n",
    "    SparseGibbsSampling1.perform_gibbs(iterations=1000, plot=False)\n",
    "    B11_path_sim_1 = SparseGibbsSampling1.get_trajectory(\n",
    "        param=\"B\", coeff=(0, 0), abs_value=True\n",
    "    )\n",
    "\n",
    "    SparseGibbsSampling2 = SpSlNormalFactorGibbs(\n",
    "        Y=Y_small,\n",
    "        B=BTrue,\n",
    "        Sigma=SigmaTrue,\n",
    "        Gamma=Gamma0,\n",
    "        Theta=Theta0,\n",
    "        alpha=alpha,\n",
    "        eta=eta,\n",
    "        epsilon=epsilon,\n",
    "        lambda0=lambda0,\n",
    "        lambda1=lambda1_sim_2,\n",
    "        device=\"mps\",  # You can change it to \"cuda\" if running on GPU\n",
    "    )\n",
    "\n",
    "    SparseGibbsSampling2.perform_gibbs(iterations=1000, plot=False)\n",
    "    B11_path_sim_2 = SparseGibbsSampling2.get_trajectory(\n",
    "        param=\"B\", coeff=(0, 0), abs_value=True\n",
    "    )"
   ]
  },
  {
   "cell_type": "code",
   "execution_count": 5,
   "metadata": {},
   "outputs": [
    {
     "data": {
      "text/plain": [
       "tensor([1.0000, 1.1780, 1.0715,  ..., 1.8935, 1.9001, 1.8664],\n",
       "       dtype=torch.float64)"
      ]
     },
     "execution_count": 5,
     "metadata": {},
     "output_type": "execute_result"
    }
   ],
   "source": [
    "B11_path_sim_1"
   ]
  },
  {
   "cell_type": "code",
   "execution_count": 11,
   "metadata": {},
   "outputs": [
    {
     "data": {
      "image/png": "[encoded data removed]",
      "text/plain": [
       "<Figure size 800x600 with 1 Axes>"
      ]
     },
     "metadata": {},
     "output_type": "display_data"
    }
   ],
   "source": [
    "import matplotlib.pyplot as plt\n",
    "import numpy as np\n",
    "# Convert tensors to numpy arrays for plotting (optional with PyTorch)\n",
    "x = np.log(B11_path_sim_1.numpy())\n",
    "y = np.log(B11_path_sim_2.numpy())\n",
    "\n",
    "# Plot the curves\n",
    "plt.figure(figsize=(8, 6))\n",
    "plt.plot(x, label=\"n=100\")\n",
    "plt.plot(y, label=\"n=1000\")\n",
    "\n",
    "# Customize the plot\n",
    "plt.title(\"Comparison of Two Tensors\")\n",
    "plt.xlabel(\"Index\")\n",
    "plt.ylabel(\"Value\")\n",
    "plt.legend()\n",
    "plt.grid(True)\n",
    "\n",
    "# Show the plot\n",
    "plt.show()"
   ]
  },
  {
   "cell_type": "code",
   "execution_count": 17,
   "metadata": {},
   "outputs": [
    {
     "data": {
      "image/png": "[encoded data removed]",
      "text/plain": [
       "<Figure size 800x600 with 1 Axes>"
      ]
     },
     "metadata": {},
     "output_type": "display_data"
    }
   ],
   "source": [
    "import pandas as pd\n",
    "import seaborn as sns\n",
    "\n",
    "# Prepare data for seaborn\n",
    "data = pd.DataFrame(\n",
    "    {\n",
    "        \"Index\": range(len(B11_path_sim_1)),  # X-axis values\n",
    "        \"sim1\": np.log(B11_path_sim_1.numpy()),\n",
    "        \"sim2\": np.log(B11_path_sim_2.numpy()),\n",
    "    }\n",
    ")\n",
    "\n",
    "# Create the plot\n",
    "sns.set_theme(style=\"whitegrid\")  # Set the style\n",
    "plt.figure(figsize=(8, 6))\n",
    "sns.lineplot(data=data, x=\"Index\", y=\"sim1\", label=r\"$\\lambda_1=0.1\")\n",
    "sns.lineplot(data=data, x=\"Index\", y=\"sim2\", label=r\"$\\lambda_1=0.001\")\n",
    "\n",
    "# Customize the plot\n",
    "plt.title(r\"Magnitude Inflation with $n = 100$\", fontsize=14)\n",
    "plt.xlabel(\"Iter\")\n",
    "plt.ylabel(r\"$\\log(|\\beta_{00}|)$\")\n",
    "plt.legend()\n",
    "plt.show()"
   ]
  },
  {
   "cell_type": "code",
   "execution_count": 1,
   "metadata": {},
   "outputs": [
    {
     "ename": "AttributeError",
     "evalue": "'SpSlNormalFactorGibbs' object has no attribute 'perform_gibbs_sampling'",
     "output_type": "error",
     "traceback": [
      "\u001b[0;31m---------------------------------------------------------------------------\u001b[0m",
      "\u001b[0;31mAttributeError\u001b[0m                            Traceback (most recent call last)",
      "Cell \u001b[0;32mIn[1], line 82\u001b[0m\n\u001b[1;32m     68\u001b[0m SparseGibbsSampling1 \u001b[38;5;241m=\u001b[39m SpSlNormalFactorGibbs(\n\u001b[1;32m     69\u001b[0m     Y\u001b[38;5;241m=\u001b[39mY_sim,\n\u001b[1;32m     70\u001b[0m     B\u001b[38;5;241m=\u001b[39mBTrue,\n\u001b[0;32m   (...)\u001b[0m\n\u001b[1;32m     78\u001b[0m     lambda1\u001b[38;5;241m=\u001b[39m\u001b[38;5;241m0.001\u001b[39m,\n\u001b[1;32m     79\u001b[0m )\n\u001b[1;32m     81\u001b[0m \u001b[38;5;66;03m# Perform Gibbs Sampler for posterior\u001b[39;00m\n\u001b[0;32m---> 82\u001b[0m \u001b[43mSparseGibbsSampling1\u001b[49m\u001b[38;5;241;43m.\u001b[39;49m\u001b[43mperform_gibbs_sampling\u001b[49m(iterations\u001b[38;5;241m=\u001b[39m\u001b[38;5;241m1000\u001b[39m, plot\u001b[38;5;241m=\u001b[39m\u001b[38;5;28;01mFalse\u001b[39;00m)\n\u001b[1;32m     83\u001b[0m B11_path_small \u001b[38;5;241m=\u001b[39m SparseGibbsSampling1\u001b[38;5;241m.\u001b[39mget_path()\n\u001b[1;32m     85\u001b[0m SparseGibbsSampling2 \u001b[38;5;241m=\u001b[39m SpSlNormalFactorGibbs(\n\u001b[1;32m     86\u001b[0m     Y\u001b[38;5;241m=\u001b[39mY_sim,\n\u001b[1;32m     87\u001b[0m     B\u001b[38;5;241m=\u001b[39mBTrue,\n\u001b[0;32m   (...)\u001b[0m\n\u001b[1;32m     95\u001b[0m     lambda1\u001b[38;5;241m=\u001b[39m\u001b[38;5;241m0.1\u001b[39m,\n\u001b[1;32m     96\u001b[0m )\n",
      "\u001b[0;31mAttributeError\u001b[0m: 'SpSlNormalFactorGibbs' object has no attribute 'perform_gibbs_sampling'"
     ]
    }
   ],
   "source": [
    "import numpy as np\n",
    "import pandas as pd\n",
    "import seaborn as sns\n",
    "import matplotlib.pyplot as plt\n",
    "\n",
    "from src.simulations.normal_bayesian_factor_dgp import NormalBayesianFactorDGP\n",
    "from src.sampling.normal_factor_gibbs import SpSlNormalFactorGibbs\n",
    "from src.utils.setup.create_true_loadings import create_true_loadings\n",
    "\n",
    "# TODO modify this to have the possibility to set the parameter when running the file\n",
    "\n",
    "# Force Random Seed\n",
    "# np.random.seed(42)\n",
    "\n",
    "# Normal Factor Bayesian Dimensions\n",
    "num_sim = 100  # small = 100; big = 1000\n",
    "num_variables = 1956\n",
    "num_factors = 8\n",
    "\n",
    "# True Loadings Settings\n",
    "block_size = 500\n",
    "overlap = 136\n",
    "random = False\n",
    "mean = 1\n",
    "std = 5\n",
    "\n",
    "# Hyperparameters\n",
    "alpha = 1 / num_variables\n",
    "eta = 1\n",
    "epsilon = 1\n",
    "lambda0 = 20\n",
    "\n",
    "\n",
    "# True Parameters\n",
    "BTrue = create_true_loadings(\n",
    "    num_factors=num_factors,\n",
    "    num_variables=num_variables,\n",
    "    block_size=block_size,\n",
    "    overlap=overlap,\n",
    "    random=random,\n",
    "    mean=mean,\n",
    "    std=std,\n",
    ")\n",
    "\n",
    "SigmaTrue = np.ones(\n",
    "    num_variables\n",
    ")  # TODO define a function to create_true_covariance either random or not\n",
    "\n",
    "# Initial Latent Parameters\n",
    "Gamma0 = create_true_loadings(\n",
    "    num_factors=num_factors,\n",
    "    num_variables=num_variables,\n",
    "    block_size=block_size,\n",
    "    overlap=overlap,\n",
    ")\n",
    "\n",
    "Theta0 = np.full((num_factors,), 0.5)\n",
    "\n",
    "# Simulated Value for Y\n",
    "DataGeneratingProcess = NormalBayesianFactorDGP(B=BTrue, Sigma=SigmaTrue)\n",
    "\n",
    "Y_sim = DataGeneratingProcess.simulate(size=num_sim)\n",
    "\n",
    "# This block ensures multiprocessing works on Windows/macOS\n",
    "if __name__ == \"__main__\":\n",
    "\n",
    "    # Initiate Bayesian Normal Factor Gibbs Sampler\n",
    "    SparseGibbsSampling1 = SpSlNormalFactorGibbs(\n",
    "        Y=Y_sim,\n",
    "        B=BTrue,\n",
    "        Sigma=SigmaTrue,\n",
    "        Gamma=Gamma0,\n",
    "        Theta=Theta0,\n",
    "        alpha=alpha,\n",
    "        eta=eta,\n",
    "        epsilon=epsilon,\n",
    "        lambda0=lambda0,\n",
    "        lambda1=0.001,\n",
    "    )\n",
    "\n",
    "    # Perform Gibbs Sampler for posterior\n",
    "    SparseGibbsSampling1.perform_gibbs(iterations=1000, plot=False)\n",
    "    B11_path_small = SparseGibbsSampling1.get_path()\n",
    "\n",
    "    SparseGibbsSampling2 = SpSlNormalFactorGibbs(\n",
    "        Y=Y_sim,\n",
    "        B=BTrue,\n",
    "        Sigma=SigmaTrue,\n",
    "        Gamma=Gamma0,\n",
    "        Theta=Theta0,\n",
    "        alpha=alpha,\n",
    "        eta=eta,\n",
    "        epsilon=epsilon,\n",
    "        lambda0=lambda0,\n",
    "        lambda1=0.1,\n",
    "    )\n",
    "\n",
    "    SparseGibbsSampling2.perform_gibbs(iterations=1000, plot=False)\n",
    "    B11_path_big = SparseGibbsSampling2.get_path()\n",
    "\n",
    "\n",
    "# Prepare data for seaborn\n",
    "data = pd.DataFrame(\n",
    "    {\n",
    "        \"Index\": range(len(B11_path_small)),  # X-axis values\n",
    "        \"small\": np.log(B11_path_small),\n",
    "        \"big\": np.log(B11_path_big),\n",
    "    }\n",
    ")\n",
    "\n",
    "# Create the plot\n",
    "sns.set_theme(style=\"whitegrid\")  # Set the style\n",
    "plt.figure(figsize=(8, 6))\n",
    "sns.lineplot(data=data, x=\"Index\", y=\"small\", label=r\"$\\lambda_1=0.001\")\n",
    "sns.lineplot(data=data, x=\"Index\", y=\"big\", label=r\"$\\lambda_1=0.1\")\n",
    "\n",
    "# Customize the plot\n",
    "plt.title(r\"Magnitude Inflation with $n = 100$\", fontsize=14)\n",
    "plt.xlabel(\"Iter\")\n",
    "plt.ylabel(r\"$\\log(|\\beta_{00}|)$\")\n",
    "plt.legend()\n",
    "plt.show()"
   ]
  },
  {
   "cell_type": "code",
   "execution_count": 2,
   "metadata": {},
   "outputs": [
    {
     "ename": "KeyboardInterrupt",
     "evalue": "",
     "output_type": "error",
     "traceback": [
      "\u001b[0;31m---------------------------------------------------------------------------\u001b[0m",
      "\u001b[0;31mKeyboardInterrupt\u001b[0m                         Traceback (most recent call last)",
      "Cell \u001b[0;32mIn[2], line 1\u001b[0m\n\u001b[0;32m----> 1\u001b[0m \u001b[38;5;28;01mimport\u001b[39;00m \u001b[38;5;21;01mseaborn\u001b[39;00m \u001b[38;5;28;01mas\u001b[39;00m \u001b[38;5;21;01msns\u001b[39;00m\n",
      "File \u001b[0;32m~/CSENSAE/bayesian_statistics/bayesian_factor/.venv/lib/python3.12/site-packages/seaborn/__init__.py:5\u001b[0m\n\u001b[1;32m      3\u001b[0m \u001b[38;5;28;01mfrom\u001b[39;00m \u001b[38;5;21;01m.\u001b[39;00m\u001b[38;5;21;01mutils\u001b[39;00m \u001b[38;5;28;01mimport\u001b[39;00m \u001b[38;5;241m*\u001b[39m  \u001b[38;5;66;03m# noqa: F401,F403\u001b[39;00m\n\u001b[1;32m      4\u001b[0m \u001b[38;5;28;01mfrom\u001b[39;00m \u001b[38;5;21;01m.\u001b[39;00m\u001b[38;5;21;01mpalettes\u001b[39;00m \u001b[38;5;28;01mimport\u001b[39;00m \u001b[38;5;241m*\u001b[39m  \u001b[38;5;66;03m# noqa: F401,F403\u001b[39;00m\n\u001b[0;32m----> 5\u001b[0m \u001b[38;5;28;01mfrom\u001b[39;00m \u001b[38;5;21;01m.\u001b[39;00m\u001b[38;5;21;01mrelational\u001b[39;00m \u001b[38;5;28;01mimport\u001b[39;00m \u001b[38;5;241m*\u001b[39m  \u001b[38;5;66;03m# noqa: F401,F403\u001b[39;00m\n\u001b[1;32m      6\u001b[0m \u001b[38;5;28;01mfrom\u001b[39;00m \u001b[38;5;21;01m.\u001b[39;00m\u001b[38;5;21;01mregression\u001b[39;00m \u001b[38;5;28;01mimport\u001b[39;00m \u001b[38;5;241m*\u001b[39m  \u001b[38;5;66;03m# noqa: F401,F403\u001b[39;00m\n\u001b[1;32m      7\u001b[0m \u001b[38;5;28;01mfrom\u001b[39;00m \u001b[38;5;21;01m.\u001b[39;00m\u001b[38;5;21;01mcategorical\u001b[39;00m \u001b[38;5;28;01mimport\u001b[39;00m \u001b[38;5;241m*\u001b[39m  \u001b[38;5;66;03m# noqa: F401,F403\u001b[39;00m\n",
      "File \u001b[0;32m~/CSENSAE/bayesian_statistics/bayesian_factor/.venv/lib/python3.12/site-packages/seaborn/relational.py:21\u001b[0m\n\u001b[1;32m     13\u001b[0m \u001b[38;5;28;01mfrom\u001b[39;00m \u001b[38;5;21;01m.\u001b[39;00m\u001b[38;5;21;01mutils\u001b[39;00m \u001b[38;5;28;01mimport\u001b[39;00m (\n\u001b[1;32m     14\u001b[0m     adjust_legend_subtitles,\n\u001b[1;32m     15\u001b[0m     _default_color,\n\u001b[0;32m   (...)\u001b[0m\n\u001b[1;32m     18\u001b[0m     _scatter_legend_artist,\n\u001b[1;32m     19\u001b[0m )\n\u001b[1;32m     20\u001b[0m \u001b[38;5;28;01mfrom\u001b[39;00m \u001b[38;5;21;01m.\u001b[39;00m\u001b[38;5;21;01m_compat\u001b[39;00m \u001b[38;5;28;01mimport\u001b[39;00m groupby_apply_include_groups\n\u001b[0;32m---> 21\u001b[0m \u001b[38;5;28;01mfrom\u001b[39;00m \u001b[38;5;21;01m.\u001b[39;00m\u001b[38;5;21;01m_statistics\u001b[39;00m \u001b[38;5;28;01mimport\u001b[39;00m EstimateAggregator, WeightedAggregator\n\u001b[1;32m     22\u001b[0m \u001b[38;5;28;01mfrom\u001b[39;00m \u001b[38;5;21;01m.\u001b[39;00m\u001b[38;5;21;01maxisgrid\u001b[39;00m \u001b[38;5;28;01mimport\u001b[39;00m FacetGrid, _facet_docs\n\u001b[1;32m     23\u001b[0m \u001b[38;5;28;01mfrom\u001b[39;00m \u001b[38;5;21;01m.\u001b[39;00m\u001b[38;5;21;01m_docstrings\u001b[39;00m \u001b[38;5;28;01mimport\u001b[39;00m DocstringComponents, _core_docs\n",
      "File \u001b[0;32m~/CSENSAE/bayesian_statistics/bayesian_factor/.venv/lib/python3.12/site-packages/seaborn/_statistics.py:32\u001b[0m\n\u001b[1;32m     30\u001b[0m \u001b[38;5;28;01mimport\u001b[39;00m \u001b[38;5;21;01mpandas\u001b[39;00m \u001b[38;5;28;01mas\u001b[39;00m \u001b[38;5;21;01mpd\u001b[39;00m\n\u001b[1;32m     31\u001b[0m \u001b[38;5;28;01mtry\u001b[39;00m:\n\u001b[0;32m---> 32\u001b[0m     \u001b[38;5;28;01mfrom\u001b[39;00m \u001b[38;5;21;01mscipy\u001b[39;00m\u001b[38;5;21;01m.\u001b[39;00m\u001b[38;5;21;01mstats\u001b[39;00m \u001b[38;5;28;01mimport\u001b[39;00m gaussian_kde\n\u001b[1;32m     33\u001b[0m     _no_scipy \u001b[38;5;241m=\u001b[39m \u001b[38;5;28;01mFalse\u001b[39;00m\n\u001b[1;32m     34\u001b[0m \u001b[38;5;28;01mexcept\u001b[39;00m \u001b[38;5;167;01mImportError\u001b[39;00m:\n",
      "File \u001b[0;32m~/CSENSAE/bayesian_statistics/bayesian_factor/.venv/lib/python3.12/site-packages/scipy/stats/__init__.py:610\u001b[0m\n\u001b[1;32m      1\u001b[0m \u001b[38;5;124;03m\"\"\"\u001b[39;00m\n\u001b[1;32m      2\u001b[0m \u001b[38;5;124;03m.. _statsrefmanual:\u001b[39;00m\n\u001b[1;32m      3\u001b[0m \n\u001b[0;32m   (...)\u001b[0m\n\u001b[1;32m    605\u001b[0m \n\u001b[1;32m    606\u001b[0m \u001b[38;5;124;03m\"\"\"\u001b[39;00m  \u001b[38;5;66;03m# noqa: E501\u001b[39;00m\n\u001b[1;32m    608\u001b[0m \u001b[38;5;28;01mfrom\u001b[39;00m \u001b[38;5;21;01m.\u001b[39;00m\u001b[38;5;21;01m_warnings_errors\u001b[39;00m \u001b[38;5;28;01mimport\u001b[39;00m (ConstantInputWarning, NearConstantInputWarning,\n\u001b[1;32m    609\u001b[0m                                DegenerateDataWarning, FitError)\n\u001b[0;32m--> 610\u001b[0m \u001b[38;5;28;01mfrom\u001b[39;00m \u001b[38;5;21;01m.\u001b[39;00m\u001b[38;5;21;01m_stats_py\u001b[39;00m \u001b[38;5;28;01mimport\u001b[39;00m \u001b[38;5;241m*\u001b[39m\n\u001b[1;32m    611\u001b[0m \u001b[38;5;28;01mfrom\u001b[39;00m \u001b[38;5;21;01m.\u001b[39;00m\u001b[38;5;21;01m_variation\u001b[39;00m \u001b[38;5;28;01mimport\u001b[39;00m variation\n\u001b[1;32m    612\u001b[0m \u001b[38;5;28;01mfrom\u001b[39;00m \u001b[38;5;21;01m.\u001b[39;00m\u001b[38;5;21;01mdistributions\u001b[39;00m \u001b[38;5;28;01mimport\u001b[39;00m \u001b[38;5;241m*\u001b[39m\n",
      "File \u001b[0;32m~/CSENSAE/bayesian_statistics/bayesian_factor/.venv/lib/python3.12/site-packages/scipy/stats/_stats_py.py:40\u001b[0m\n\u001b[1;32m     37\u001b[0m \u001b[38;5;28;01mfrom\u001b[39;00m \u001b[38;5;21;01mscipy\u001b[39;00m \u001b[38;5;28;01mimport\u001b[39;00m sparse\n\u001b[1;32m     38\u001b[0m \u001b[38;5;28;01mfrom\u001b[39;00m \u001b[38;5;21;01mscipy\u001b[39;00m\u001b[38;5;21;01m.\u001b[39;00m\u001b[38;5;21;01mspatial\u001b[39;00m \u001b[38;5;28;01mimport\u001b[39;00m distance_matrix\n\u001b[0;32m---> 40\u001b[0m \u001b[38;5;28;01mfrom\u001b[39;00m \u001b[38;5;21;01mscipy\u001b[39;00m\u001b[38;5;21;01m.\u001b[39;00m\u001b[38;5;21;01moptimize\u001b[39;00m \u001b[38;5;28;01mimport\u001b[39;00m milp, LinearConstraint\n\u001b[1;32m     41\u001b[0m \u001b[38;5;28;01mfrom\u001b[39;00m \u001b[38;5;21;01mscipy\u001b[39;00m\u001b[38;5;21;01m.\u001b[39;00m\u001b[38;5;21;01m_lib\u001b[39;00m\u001b[38;5;21;01m.\u001b[39;00m\u001b[38;5;21;01m_util\u001b[39;00m \u001b[38;5;28;01mimport\u001b[39;00m (check_random_state, _get_nan,\n\u001b[1;32m     42\u001b[0m                               _rename_parameter, _contains_nan,\n\u001b[1;32m     43\u001b[0m                               AxisError)\n\u001b[1;32m     45\u001b[0m \u001b[38;5;28;01mimport\u001b[39;00m \u001b[38;5;21;01mscipy\u001b[39;00m\u001b[38;5;21;01m.\u001b[39;00m\u001b[38;5;21;01mspecial\u001b[39;00m \u001b[38;5;28;01mas\u001b[39;00m \u001b[38;5;21;01mspecial\u001b[39;00m\n",
      "File \u001b[0;32m~/CSENSAE/bayesian_statistics/bayesian_factor/.venv/lib/python3.12/site-packages/scipy/optimize/__init__.py:414\u001b[0m\n\u001b[1;32m      1\u001b[0m \u001b[38;5;124;03m\"\"\"\u001b[39;00m\n\u001b[1;32m      2\u001b[0m \u001b[38;5;124;03m=====================================================\u001b[39;00m\n\u001b[1;32m      3\u001b[0m \u001b[38;5;124;03mOptimization and root finding (:mod:`scipy.optimize`)\u001b[39;00m\n\u001b[0;32m   (...)\u001b[0m\n\u001b[1;32m    411\u001b[0m \n\u001b[1;32m    412\u001b[0m \u001b[38;5;124;03m\"\"\"\u001b[39;00m  \u001b[38;5;66;03m# noqa: E501\u001b[39;00m\n\u001b[0;32m--> 414\u001b[0m \u001b[38;5;28;01mfrom\u001b[39;00m \u001b[38;5;21;01m.\u001b[39;00m\u001b[38;5;21;01m_optimize\u001b[39;00m \u001b[38;5;28;01mimport\u001b[39;00m \u001b[38;5;241m*\u001b[39m\n\u001b[1;32m    415\u001b[0m \u001b[38;5;28;01mfrom\u001b[39;00m \u001b[38;5;21;01m.\u001b[39;00m\u001b[38;5;21;01m_minimize\u001b[39;00m \u001b[38;5;28;01mimport\u001b[39;00m \u001b[38;5;241m*\u001b[39m\n\u001b[1;32m    416\u001b[0m \u001b[38;5;28;01mfrom\u001b[39;00m \u001b[38;5;21;01m.\u001b[39;00m\u001b[38;5;21;01m_root\u001b[39;00m \u001b[38;5;28;01mimport\u001b[39;00m \u001b[38;5;241m*\u001b[39m\n",
      "File \u001b[0;32m~/CSENSAE/bayesian_statistics/bayesian_factor/.venv/lib/python3.12/site-packages/scipy/optimize/_optimize.py:40\u001b[0m\n\u001b[1;32m     36\u001b[0m \u001b[38;5;28;01mfrom\u001b[39;00m \u001b[38;5;21;01mscipy\u001b[39;00m\u001b[38;5;21;01m.\u001b[39;00m\u001b[38;5;21;01msparse\u001b[39;00m\u001b[38;5;21;01m.\u001b[39;00m\u001b[38;5;21;01mlinalg\u001b[39;00m \u001b[38;5;28;01mimport\u001b[39;00m LinearOperator\n\u001b[1;32m     37\u001b[0m \u001b[38;5;28;01mfrom\u001b[39;00m \u001b[38;5;21;01m.\u001b[39;00m\u001b[38;5;21;01m_linesearch\u001b[39;00m \u001b[38;5;28;01mimport\u001b[39;00m (line_search_wolfe1, line_search_wolfe2,\n\u001b[1;32m     38\u001b[0m                           line_search_wolfe2 \u001b[38;5;28;01mas\u001b[39;00m line_search,\n\u001b[1;32m     39\u001b[0m                           LineSearchWarning)\n\u001b[0;32m---> 40\u001b[0m \u001b[38;5;28;01mfrom\u001b[39;00m \u001b[38;5;21;01m.\u001b[39;00m\u001b[38;5;21;01m_numdiff\u001b[39;00m \u001b[38;5;28;01mimport\u001b[39;00m approx_derivative\n\u001b[1;32m     41\u001b[0m \u001b[38;5;28;01mfrom\u001b[39;00m \u001b[38;5;21;01mscipy\u001b[39;00m\u001b[38;5;21;01m.\u001b[39;00m\u001b[38;5;21;01m_lib\u001b[39;00m\u001b[38;5;21;01m.\u001b[39;00m\u001b[38;5;21;01m_util\u001b[39;00m \u001b[38;5;28;01mimport\u001b[39;00m getfullargspec_no_self \u001b[38;5;28;01mas\u001b[39;00m _getfullargspec\n\u001b[1;32m     42\u001b[0m \u001b[38;5;28;01mfrom\u001b[39;00m \u001b[38;5;21;01mscipy\u001b[39;00m\u001b[38;5;21;01m.\u001b[39;00m\u001b[38;5;21;01m_lib\u001b[39;00m\u001b[38;5;21;01m.\u001b[39;00m\u001b[38;5;21;01m_util\u001b[39;00m \u001b[38;5;28;01mimport\u001b[39;00m (MapWrapper, check_random_state, _RichResult,\n\u001b[1;32m     43\u001b[0m                               _call_callback_maybe_halt)\n",
      "File \u001b[0;32m~/CSENSAE/bayesian_statistics/bayesian_factor/.venv/lib/python3.12/site-packages/scipy/optimize/_numdiff.py:8\u001b[0m\n\u001b[1;32m      6\u001b[0m \u001b[38;5;28;01mfrom\u001b[39;00m \u001b[38;5;21;01mscipy\u001b[39;00m\u001b[38;5;21;01m.\u001b[39;00m\u001b[38;5;21;01msparse\u001b[39;00m\u001b[38;5;21;01m.\u001b[39;00m\u001b[38;5;21;01mlinalg\u001b[39;00m \u001b[38;5;28;01mimport\u001b[39;00m LinearOperator\n\u001b[1;32m      7\u001b[0m \u001b[38;5;28;01mfrom\u001b[39;00m \u001b[38;5;21;01m.\u001b[39;00m\u001b[38;5;21;01m.\u001b[39;00m\u001b[38;5;21;01msparse\u001b[39;00m \u001b[38;5;28;01mimport\u001b[39;00m issparse, csc_matrix, csr_matrix, coo_matrix, find\n\u001b[0;32m----> 8\u001b[0m \u001b[38;5;28;01mfrom\u001b[39;00m \u001b[38;5;21;01m.\u001b[39;00m\u001b[38;5;21;01m_group_columns\u001b[39;00m \u001b[38;5;28;01mimport\u001b[39;00m group_dense, group_sparse\n\u001b[1;32m      9\u001b[0m \u001b[38;5;28;01mfrom\u001b[39;00m \u001b[38;5;21;01mscipy\u001b[39;00m\u001b[38;5;21;01m.\u001b[39;00m\u001b[38;5;21;01m_lib\u001b[39;00m\u001b[38;5;21;01m.\u001b[39;00m\u001b[38;5;21;01m_array_api\u001b[39;00m \u001b[38;5;28;01mimport\u001b[39;00m atleast_nd, array_namespace\n\u001b[1;32m     12\u001b[0m \u001b[38;5;28;01mdef\u001b[39;00m \u001b[38;5;21m_adjust_scheme_to_bounds\u001b[39m(x0, h, num_steps, scheme, lb, ub):\n",
      "\u001b[0;31mKeyboardInterrupt\u001b[0m: "
     ]
    }
   ],
   "source": [
    "import seaborn as sns"
   ]
  },
  {
   "cell_type": "code",
   "execution_count": 7,
   "metadata": {},
   "outputs": [
    {
     "data": {
      "image/png": "[encoded data removed]",
      "text/plain": [
       "<Figure size 640x480 with 1 Axes>"
      ]
     },
     "metadata": {},
     "output_type": "display_data"
    }
   ],
   "source": [
    "import seaborn as sns\n",
    "import matplotlib.pyplot as plt\n",
    "import numpy as np\n",
    "\n",
    "# Example data\n",
    "x = np.linspace(0, 10, 100)\n",
    "y1 = np.sin(x)\n",
    "y2 = np.cos(x)\n",
    "\n",
    "# Plot with specific colors\n",
    "sns.lineplot(x=x, y=y1, color=\"cyan\", label=\"Sine (blue)\")\n",
    "sns.lineplot(x=x, y=y2, color=\"#FF5733\", label=\"Cosine (hex)\")\n",
    "\n",
    "# Add legend and labels\n",
    "plt.legend()\n",
    "plt.title(\"Lineplot with Custom Colors\")\n",
    "plt.xlabel(\"x\")\n",
    "plt.ylabel(\"y\")\n",
    "plt.show()"
   ]
  }
 ],
 "metadata": {
  "kernelspec": {
   "display_name": ".venv",
   "language": "python",
   "name": "python3"
  },
  "language_info": {
   "codemirror_mode": {
    "name": "ipython",
    "version": 3
   },
   "file_extension": ".py",
   "mimetype": "text/x-python",
   "name": "python",
   "nbconvert_exporter": "python",
   "pygments_lexer": "ipython3",
   "version": "3.12.8"
  }
 },
 "nbformat": 4,
 "nbformat_minor": 2
}
